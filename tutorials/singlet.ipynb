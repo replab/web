{
 "cells": [
  {
   "cell_type": "markdown",
   "id": "5e9f44b4",
   "metadata": {},
   "source": [
    "# Tutorial for physicists\n",
    "\n",
    "The unitary group $U(n)$ describes the possible change of basis in the\n",
    "complex Hilbert space of dimension $n$. For $n=2$, this captures the\n",
    "possible choices of basis in the qubit space $C^2$. For a system composed\n",
    "of two qubits, we can similarly define the effect of a joint change of\n",
    "basis performed on both subsystems simultaneously. It is known that a\n",
    "single state is invariant under such joint change of basis. Here, we\n",
    "identify this state by extracting the subspace of $(C^2)^{\\otimes 2}$\n",
    "which is invariant under the joint change of basis for both subsystems."
   ]
  },
  {
   "cell_type": "markdown",
   "id": "2fa8d4df",
   "metadata": {},
   "source": [
    "Before trying any of the *RepLAB* commands, we must initialize the library:"
   ]
  },
  {
   "cell_type": "code",
   "execution_count": 1,
   "id": "707ec0ab",
   "metadata": {
    "execution": {
     "iopub.execute_input": "2021-12-29T16:17:39.252401Z",
     "iopub.status.busy": "2021-12-29T16:17:39.252004Z",
     "iopub.status.idle": "2021-12-29T16:17:44.743700Z",
     "shell.execute_reply": "2021-12-29T16:17:44.743228Z"
    }
   },
   "outputs": [
    {
     "name": "stdout",
     "output_type": "stream",
     "text": [
      "replab_init: Initialization done.\r\n"
     ]
    }
   ],
   "source": [
    "addpath([pwd, '/../../../external/replab']);\n",
    "replab_init('verbose', 0);"
   ]
  },
  {
   "cell_type": "markdown",
   "id": "3185b94d",
   "metadata": {},
   "source": [
    "## The unitary group representation\n",
    "\n",
    "Changes of bases for one system are described by the group $U(2)$"
   ]
  },
  {
   "cell_type": "code",
   "execution_count": 2,
   "id": "f88841bf",
   "metadata": {
    "execution": {
     "iopub.execute_input": "2021-12-29T16:17:44.746156Z",
     "iopub.status.busy": "2021-12-29T16:17:44.745773Z",
     "iopub.status.idle": "2021-12-29T16:17:44.769429Z",
     "shell.execute_reply": "2021-12-29T16:17:44.769036Z"
    }
   },
   "outputs": [],
   "source": [
    "d = 2;\n",
    "U2 = replab.U(d);"
   ]
  },
  {
   "cell_type": "markdown",
   "id": "67108296",
   "metadata": {},
   "source": [
    "We construct the defining representation of this group, which acts on $C^2$:"
   ]
  },
  {
   "cell_type": "code",
   "execution_count": 3,
   "id": "e4870438",
   "metadata": {
    "execution": {
     "iopub.execute_input": "2021-12-29T16:17:44.771961Z",
     "iopub.status.busy": "2021-12-29T16:17:44.771296Z",
     "iopub.status.idle": "2021-12-29T16:17:44.796841Z",
     "shell.execute_reply": "2021-12-29T16:17:44.796468Z"
    }
   },
   "outputs": [],
   "source": [
    "U2Rep = U2.definingRep;"
   ]
  },
  {
   "cell_type": "markdown",
   "id": "7a97d6a1",
   "metadata": {},
   "source": [
    "## Tensor product of two representations\n",
    "\n",
    "We can now construct the representation which acts jointly on two\n",
    "subsystems of dimension 2:"
   ]
  },
  {
   "cell_type": "code",
   "execution_count": 4,
   "id": "8f7c438b",
   "metadata": {
    "execution": {
     "iopub.execute_input": "2021-12-29T16:17:44.799434Z",
     "iopub.status.busy": "2021-12-29T16:17:44.799053Z",
     "iopub.status.idle": "2021-12-29T16:17:44.820991Z",
     "shell.execute_reply": "2021-12-29T16:17:44.820624Z"
    }
   },
   "outputs": [],
   "source": [
    "U2TensorRep = kron(U2Rep, U2Rep);"
   ]
  },
  {
   "cell_type": "markdown",
   "id": "9d207a8b",
   "metadata": {},
   "source": [
    "To identify the subspaces which are invariant under this group, we decompose the representation:"
   ]
  },
  {
   "cell_type": "code",
   "execution_count": 5,
   "id": "08d9f964",
   "metadata": {
    "execution": {
     "iopub.execute_input": "2021-12-29T16:17:44.823517Z",
     "iopub.status.busy": "2021-12-29T16:17:44.823131Z",
     "iopub.status.idle": "2021-12-29T16:17:48.893053Z",
     "shell.execute_reply": "2021-12-29T16:17:48.893398Z"
    }
   },
   "outputs": [],
   "source": [
    "dec = U2TensorRep.decomposition.nice;"
   ]
  },
  {
   "cell_type": "markdown",
   "id": "cafa80c9",
   "metadata": {},
   "source": [
    "The decomposition has"
   ]
  },
  {
   "cell_type": "code",
   "execution_count": 6,
   "id": "7fe87584",
   "metadata": {
    "execution": {
     "iopub.execute_input": "2021-12-29T16:17:48.896783Z",
     "iopub.status.busy": "2021-12-29T16:17:48.896104Z",
     "iopub.status.idle": "2021-12-29T16:17:48.909960Z",
     "shell.execute_reply": "2021-12-29T16:17:48.910289Z"
    }
   },
   "outputs": [
    {
     "name": "stdout",
     "output_type": "stream",
     "text": [
      "ans = 2\r\n"
     ]
    }
   ],
   "source": [
    "dec.nComponents"
   ]
  },
  {
   "cell_type": "markdown",
   "id": "bb7c8fc3",
   "metadata": {},
   "source": [
    "components, of dimension"
   ]
  },
  {
   "cell_type": "code",
   "execution_count": 7,
   "id": "f474b672",
   "metadata": {
    "execution": {
     "iopub.execute_input": "2021-12-29T16:17:48.913132Z",
     "iopub.status.busy": "2021-12-29T16:17:48.912504Z",
     "iopub.status.idle": "2021-12-29T16:17:48.926375Z",
     "shell.execute_reply": "2021-12-29T16:17:48.925641Z"
    }
   },
   "outputs": [
    {
     "name": "stdout",
     "output_type": "stream",
     "text": [
      "ans = 1\r\n"
     ]
    }
   ],
   "source": [
    "dec.component(1).irrepDimension"
   ]
  },
  {
   "cell_type": "markdown",
   "id": "fb51ab63",
   "metadata": {},
   "source": [
    "and"
   ]
  },
  {
   "cell_type": "code",
   "execution_count": 8,
   "id": "17c387be",
   "metadata": {
    "execution": {
     "iopub.execute_input": "2021-12-29T16:17:48.929405Z",
     "iopub.status.busy": "2021-12-29T16:17:48.928347Z",
     "iopub.status.idle": "2021-12-29T16:17:48.942933Z",
     "shell.execute_reply": "2021-12-29T16:17:48.943236Z"
    }
   },
   "outputs": [
    {
     "name": "stdout",
     "output_type": "stream",
     "text": [
      "ans = 3\r\n"
     ]
    }
   ],
   "source": [
    "dec.component(2).irrepDimension"
   ]
  },
  {
   "cell_type": "markdown",
   "id": "a262b130",
   "metadata": {},
   "source": [
    "These are the antisymmetric and symmetric subspaces respectively. The change of basis into the first component\n",
    "identifies the antisymetric subspace, also known as the *singlet state*:"
   ]
  },
  {
   "cell_type": "code",
   "execution_count": 9,
   "id": "79ec3454",
   "metadata": {
    "execution": {
     "iopub.execute_input": "2021-12-29T16:17:48.945746Z",
     "iopub.status.busy": "2021-12-29T16:17:48.945370Z",
     "iopub.status.idle": "2021-12-29T16:17:48.965518Z",
     "shell.execute_reply": "2021-12-29T16:17:48.965154Z"
    }
   },
   "outputs": [
    {
     "name": "stdout",
     "output_type": "stream",
     "text": [
      "singletBasis =\r\n",
      "\r\n",
      "        0\r\n",
      "   0.5000\r\n",
      "  -0.5000\r\n",
      "        0\r\n",
      "\r\n"
     ]
    },
    {
     "name": "stdout",
     "output_type": "stream",
     "text": [
      "rest =\r\n",
      "\r\n",
      "   1.0000        0        0\r\n",
      "        0        0   0.5000\r\n",
      "        0        0   0.5000\r\n",
      "        0   1.0000        0\r\n",
      "\r\n"
     ]
    }
   ],
   "source": [
    "singletBasis = dec.component(1).basis\n",
    "rest = dec.component(2).basis"
   ]
  }
 ],
 "metadata": {
  "jupytext": {
   "cell_metadata_filter": "-all",
   "main_language": "matlab",
   "notebook_metadata_filter": "-all",
   "text_representation": {
    "extension": ".m",
    "format_name": "light"
   }
  },
  "language_info": {
   "file_extension": ".m",
   "help_links": [
    {
     "text": "GNU Octave",
     "url": "https://www.gnu.org/software/octave/support.html"
    },
    {
     "text": "Octave Kernel",
     "url": "https://github.com/Calysto/octave_kernel"
    },
    {
     "text": "MetaKernel Magics",
     "url": "https://metakernel.readthedocs.io/en/latest/source/README.html"
    }
   ],
   "mimetype": "text/x-octave",
   "name": "octave",
   "version": "6.2.0"
  }
 },
 "nbformat": 4,
 "nbformat_minor": 5
}
