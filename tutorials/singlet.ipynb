{
 "cells": [
  {
   "cell_type": "markdown",
   "id": "708e357c",
   "metadata": {},
   "source": [
    "# Tutorial for physicists\n",
    "\n",
    "The unitary group $U(n)$ describes the possible change of basis in the\n",
    "complex Hilbert space of dimension $n$. For $n=2$, this captures the\n",
    "possible choices of basis in the qubit space $C^2$. For a system composed\n",
    "of two qubits, we can similarly define the effect of a joint change of\n",
    "basis performed on both subsystems simultaneously. It is known that a\n",
    "single state is invariant under such joint change of basis. Here, we\n",
    "identify this state by extracting the subspace of $(C^2)^{\\otimes 2}$\n",
    "which is invariant under the joint change of basis for both subsystems."
   ]
  },
  {
   "cell_type": "markdown",
   "id": "5f5c047c",
   "metadata": {},
   "source": [
    "Before trying any of the *RepLAB* commands, we must initialize the library:"
   ]
  },
  {
   "cell_type": "code",
   "execution_count": 1,
   "id": "58324d7b",
   "metadata": {
    "execution": {
     "iopub.execute_input": "2021-12-29T15:03:41.771348Z",
     "iopub.status.busy": "2021-12-29T15:03:41.770973Z",
     "iopub.status.idle": "2021-12-29T15:03:47.715003Z",
     "shell.execute_reply": "2021-12-29T15:03:47.714485Z"
    }
   },
   "outputs": [
    {
     "name": "stdout",
     "output_type": "stream",
     "text": [
      "replab_init: Initialization done.\r\n"
     ]
    }
   ],
   "source": [
    "addpath([pwd, '/../../../external/replab']);\n",
    "replab_init('verbose', 0);"
   ]
  },
  {
   "cell_type": "markdown",
   "id": "1445e349",
   "metadata": {},
   "source": [
    "## The unitary group representation\n",
    "\n",
    "Changes of bases for one system are described by the group $U(2)$"
   ]
  },
  {
   "cell_type": "code",
   "execution_count": 2,
   "id": "5ac4ec7a",
   "metadata": {
    "execution": {
     "iopub.execute_input": "2021-12-29T15:03:47.717965Z",
     "iopub.status.busy": "2021-12-29T15:03:47.717497Z",
     "iopub.status.idle": "2021-12-29T15:03:47.738621Z",
     "shell.execute_reply": "2021-12-29T15:03:47.738168Z"
    }
   },
   "outputs": [],
   "source": [
    "d = 2;\n",
    "U2 = replab.U(d);"
   ]
  },
  {
   "cell_type": "markdown",
   "id": "5dffd15e",
   "metadata": {},
   "source": [
    "We construct the defining representation of this group, which acts on $C^2$:"
   ]
  },
  {
   "cell_type": "code",
   "execution_count": 3,
   "id": "08048aa0",
   "metadata": {
    "execution": {
     "iopub.execute_input": "2021-12-29T15:03:47.741644Z",
     "iopub.status.busy": "2021-12-29T15:03:47.741225Z",
     "iopub.status.idle": "2021-12-29T15:03:47.765326Z",
     "shell.execute_reply": "2021-12-29T15:03:47.764961Z"
    }
   },
   "outputs": [],
   "source": [
    "U2Rep = U2.definingRep;"
   ]
  },
  {
   "cell_type": "markdown",
   "id": "49bf0939",
   "metadata": {},
   "source": [
    "## Tensor product of two representations\n",
    "\n",
    "We can now construct the representation which acts jointly on two\n",
    "subsystems of dimension 2:"
   ]
  },
  {
   "cell_type": "code",
   "execution_count": 4,
   "id": "9a829219",
   "metadata": {
    "execution": {
     "iopub.execute_input": "2021-12-29T15:03:47.767737Z",
     "iopub.status.busy": "2021-12-29T15:03:47.767322Z",
     "iopub.status.idle": "2021-12-29T15:03:47.784831Z",
     "shell.execute_reply": "2021-12-29T15:03:47.785175Z"
    }
   },
   "outputs": [],
   "source": [
    "U2TensorRep = kron(U2Rep, U2Rep);"
   ]
  },
  {
   "cell_type": "markdown",
   "id": "eb05ae17",
   "metadata": {},
   "source": [
    "To identify the subspaces which are invariant under this group, we decompose the representation:"
   ]
  },
  {
   "cell_type": "code",
   "execution_count": 5,
   "id": "b31e7dc5",
   "metadata": {
    "execution": {
     "iopub.execute_input": "2021-12-29T15:03:47.787728Z",
     "iopub.status.busy": "2021-12-29T15:03:47.787316Z",
     "iopub.status.idle": "2021-12-29T15:03:51.933835Z",
     "shell.execute_reply": "2021-12-29T15:03:51.933003Z"
    }
   },
   "outputs": [],
   "source": [
    "dec = U2TensorRep.decomposition.nice;"
   ]
  },
  {
   "cell_type": "markdown",
   "id": "99b4ee21",
   "metadata": {},
   "source": [
    "The decomposition has"
   ]
  },
  {
   "cell_type": "code",
   "execution_count": 6,
   "id": "a3697959",
   "metadata": {
    "execution": {
     "iopub.execute_input": "2021-12-29T15:03:51.936780Z",
     "iopub.status.busy": "2021-12-29T15:03:51.936342Z",
     "iopub.status.idle": "2021-12-29T15:03:51.948556Z",
     "shell.execute_reply": "2021-12-29T15:03:51.947989Z"
    }
   },
   "outputs": [
    {
     "name": "stdout",
     "output_type": "stream",
     "text": [
      "ans = 2\r\n"
     ]
    }
   ],
   "source": [
    "dec.nComponents"
   ]
  },
  {
   "cell_type": "markdown",
   "id": "ac3a6b41",
   "metadata": {},
   "source": [
    "components, of dimension"
   ]
  },
  {
   "cell_type": "code",
   "execution_count": 7,
   "id": "4c795b8c",
   "metadata": {
    "execution": {
     "iopub.execute_input": "2021-12-29T15:03:51.950972Z",
     "iopub.status.busy": "2021-12-29T15:03:51.950417Z",
     "iopub.status.idle": "2021-12-29T15:03:51.962727Z",
     "shell.execute_reply": "2021-12-29T15:03:51.962349Z"
    }
   },
   "outputs": [
    {
     "name": "stdout",
     "output_type": "stream",
     "text": [
      "ans = 1\r\n"
     ]
    }
   ],
   "source": [
    "dec.component(1).irrepDimension"
   ]
  },
  {
   "cell_type": "markdown",
   "id": "f1a003fd",
   "metadata": {},
   "source": [
    "and"
   ]
  },
  {
   "cell_type": "code",
   "execution_count": 8,
   "id": "cccc9746",
   "metadata": {
    "execution": {
     "iopub.execute_input": "2021-12-29T15:03:51.965273Z",
     "iopub.status.busy": "2021-12-29T15:03:51.964862Z",
     "iopub.status.idle": "2021-12-29T15:03:51.978008Z",
     "shell.execute_reply": "2021-12-29T15:03:51.977661Z"
    }
   },
   "outputs": [
    {
     "name": "stdout",
     "output_type": "stream",
     "text": [
      "ans = 3\r\n"
     ]
    }
   ],
   "source": [
    "dec.component(2).irrepDimension"
   ]
  },
  {
   "cell_type": "markdown",
   "id": "5c104379",
   "metadata": {},
   "source": [
    "These are the antisymmetric and symmetric subspaces respectively. The change of basis into the first component\n",
    "identifies the antisymetric subspace, also known as the *singlet state*:"
   ]
  },
  {
   "cell_type": "code",
   "execution_count": 9,
   "id": "a3f4f2d7",
   "metadata": {
    "execution": {
     "iopub.execute_input": "2021-12-29T15:03:51.980668Z",
     "iopub.status.busy": "2021-12-29T15:03:51.979966Z",
     "iopub.status.idle": "2021-12-29T15:03:51.998738Z",
     "shell.execute_reply": "2021-12-29T15:03:51.998354Z"
    }
   },
   "outputs": [
    {
     "name": "stdout",
     "output_type": "stream",
     "text": [
      "singletBasis =\r\n",
      "\r\n",
      "        0\r\n",
      "   0.5000\r\n",
      "  -0.5000\r\n",
      "        0\r\n",
      "\r\n"
     ]
    },
    {
     "name": "stdout",
     "output_type": "stream",
     "text": [
      "rest =\r\n",
      "\r\n",
      "   1.0000        0        0\r\n",
      "        0        0   0.5000\r\n",
      "        0        0   0.5000\r\n",
      "        0   1.0000        0\r\n",
      "\r\n"
     ]
    }
   ],
   "source": [
    "singletBasis = dec.component(1).basis\n",
    "rest = dec.component(2).basis"
   ]
  }
 ],
 "metadata": {
  "jupytext": {
   "cell_metadata_filter": "-all",
   "main_language": "matlab",
   "notebook_metadata_filter": "-all",
   "text_representation": {
    "extension": ".m",
    "format_name": "light"
   }
  },
  "language_info": {
   "file_extension": ".m",
   "help_links": [
    {
     "text": "GNU Octave",
     "url": "https://www.gnu.org/software/octave/support.html"
    },
    {
     "text": "Octave Kernel",
     "url": "https://github.com/Calysto/octave_kernel"
    },
    {
     "text": "MetaKernel Magics",
     "url": "https://metakernel.readthedocs.io/en/latest/source/README.html"
    }
   ],
   "mimetype": "text/x-octave",
   "name": "octave",
   "version": "6.2.0"
  }
 },
 "nbformat": 4,
 "nbformat_minor": 5
}
