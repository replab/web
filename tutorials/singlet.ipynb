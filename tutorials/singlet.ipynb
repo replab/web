{
 "cells": [
  {
   "cell_type": "markdown",
   "id": "3440fe9d",
   "metadata": {},
   "source": [
    "# Tutorial for physicists\n",
    "\n",
    "The unitary group $U(n)$ describes the possible change of basis in the\n",
    "complex Hilbert space of dimension $n$. For $n=2$, this captures the\n",
    "possible choices of basis in the qubit space $C^2$. For a system composed\n",
    "of two qubits, we can similarly define the effect of a joint change of\n",
    "basis performed on both subsystems simultaneously. It is known that a\n",
    "single state is invariant under such joint change of basis. Here, we\n",
    "identify this state by extracting the subspace of $(C^2)^{\\otimes 2}$\n",
    "which is invariant under the joint change of basis for both subsystems."
   ]
  },
  {
   "cell_type": "markdown",
   "id": "e8e308bc",
   "metadata": {},
   "source": [
    "Before trying any of the *RepLAB* commands, we must initialize the library:"
   ]
  },
  {
   "cell_type": "code",
   "execution_count": 1,
   "id": "f736a262",
   "metadata": {
    "execution": {
     "iopub.execute_input": "2022-01-26T22:23:24.437308Z",
     "iopub.status.busy": "2022-01-26T22:23:24.433766Z",
     "iopub.status.idle": "2022-01-26T22:23:32.803603Z",
     "shell.execute_reply": "2022-01-26T22:23:32.802998Z"
    }
   },
   "outputs": [
    {
     "name": "stdout",
     "output_type": "stream",
     "text": [
      "replab_init: Initialization done.\r\n"
     ]
    }
   ],
   "source": [
    "addpath([pwd, '/../../../external/replab']);\n",
    "replab_init('verbose', 0);"
   ]
  },
  {
   "cell_type": "markdown",
   "id": "ff712b7a",
   "metadata": {},
   "source": [
    "## The unitary group representation\n",
    "\n",
    "Changes of bases for one system are described by the group $U(2)$"
   ]
  },
  {
   "cell_type": "code",
   "execution_count": 2,
   "id": "64c6c37f",
   "metadata": {
    "execution": {
     "iopub.execute_input": "2022-01-26T22:23:32.807064Z",
     "iopub.status.busy": "2022-01-26T22:23:32.806495Z",
     "iopub.status.idle": "2022-01-26T22:23:32.834757Z",
     "shell.execute_reply": "2022-01-26T22:23:32.833821Z"
    }
   },
   "outputs": [],
   "source": [
    "d = 2;\n",
    "U2 = replab.U(d);"
   ]
  },
  {
   "cell_type": "markdown",
   "id": "c797df61",
   "metadata": {},
   "source": [
    "We construct the defining representation of this group, which acts on $C^2$:"
   ]
  },
  {
   "cell_type": "code",
   "execution_count": 3,
   "id": "8d2ace10",
   "metadata": {
    "execution": {
     "iopub.execute_input": "2022-01-26T22:23:32.837743Z",
     "iopub.status.busy": "2022-01-26T22:23:32.837174Z",
     "iopub.status.idle": "2022-01-26T22:23:32.872437Z",
     "shell.execute_reply": "2022-01-26T22:23:32.871934Z"
    }
   },
   "outputs": [],
   "source": [
    "U2Rep = U2.definingRep;"
   ]
  },
  {
   "cell_type": "markdown",
   "id": "b313aa88",
   "metadata": {},
   "source": [
    "## Tensor product of two representations\n",
    "\n",
    "We can now construct the representation which acts jointly on two\n",
    "subsystems of dimension 2:"
   ]
  },
  {
   "cell_type": "code",
   "execution_count": 4,
   "id": "131afd29",
   "metadata": {
    "execution": {
     "iopub.execute_input": "2022-01-26T22:23:32.876549Z",
     "iopub.status.busy": "2022-01-26T22:23:32.875305Z",
     "iopub.status.idle": "2022-01-26T22:23:32.904099Z",
     "shell.execute_reply": "2022-01-26T22:23:32.903550Z"
    }
   },
   "outputs": [],
   "source": [
    "U2TensorRep = kron(U2Rep, U2Rep);"
   ]
  },
  {
   "cell_type": "markdown",
   "id": "0d9d2d26",
   "metadata": {},
   "source": [
    "To identify the subspaces which are invariant under this group, we decompose the representation:"
   ]
  },
  {
   "cell_type": "code",
   "execution_count": 5,
   "id": "fcad1f78",
   "metadata": {
    "execution": {
     "iopub.execute_input": "2022-01-26T22:23:32.907350Z",
     "iopub.status.busy": "2022-01-26T22:23:32.906771Z",
     "iopub.status.idle": "2022-01-26T22:23:39.617283Z",
     "shell.execute_reply": "2022-01-26T22:23:39.616168Z"
    }
   },
   "outputs": [],
   "source": [
    "dec = U2TensorRep.decomposition.nice;"
   ]
  },
  {
   "cell_type": "markdown",
   "id": "84a4d8e6",
   "metadata": {},
   "source": [
    "The decomposition has"
   ]
  },
  {
   "cell_type": "code",
   "execution_count": 6,
   "id": "c92318ba",
   "metadata": {
    "execution": {
     "iopub.execute_input": "2022-01-26T22:23:39.620803Z",
     "iopub.status.busy": "2022-01-26T22:23:39.620239Z",
     "iopub.status.idle": "2022-01-26T22:23:39.640543Z",
     "shell.execute_reply": "2022-01-26T22:23:39.639641Z"
    }
   },
   "outputs": [
    {
     "name": "stdout",
     "output_type": "stream",
     "text": [
      "ans = 2\r\n"
     ]
    }
   ],
   "source": [
    "dec.nComponents"
   ]
  },
  {
   "cell_type": "markdown",
   "id": "f5f3f50e",
   "metadata": {},
   "source": [
    "components, of dimension"
   ]
  },
  {
   "cell_type": "code",
   "execution_count": 7,
   "id": "7aa2ceeb",
   "metadata": {
    "execution": {
     "iopub.execute_input": "2022-01-26T22:23:39.644094Z",
     "iopub.status.busy": "2022-01-26T22:23:39.643548Z",
     "iopub.status.idle": "2022-01-26T22:23:39.662725Z",
     "shell.execute_reply": "2022-01-26T22:23:39.661637Z"
    }
   },
   "outputs": [
    {
     "name": "stdout",
     "output_type": "stream",
     "text": [
      "ans = 1\r\n"
     ]
    }
   ],
   "source": [
    "dec.component(1).irrepDimension"
   ]
  },
  {
   "cell_type": "markdown",
   "id": "aa2611c6",
   "metadata": {},
   "source": [
    "and"
   ]
  },
  {
   "cell_type": "code",
   "execution_count": 8,
   "id": "0d009fe5",
   "metadata": {
    "execution": {
     "iopub.execute_input": "2022-01-26T22:23:39.666592Z",
     "iopub.status.busy": "2022-01-26T22:23:39.665991Z",
     "iopub.status.idle": "2022-01-26T22:23:39.682701Z",
     "shell.execute_reply": "2022-01-26T22:23:39.683157Z"
    }
   },
   "outputs": [
    {
     "name": "stdout",
     "output_type": "stream",
     "text": [
      "ans = 3\r\n"
     ]
    }
   ],
   "source": [
    "dec.component(2).irrepDimension"
   ]
  },
  {
   "cell_type": "markdown",
   "id": "850303c8",
   "metadata": {},
   "source": [
    "These are the antisymmetric and symmetric subspaces respectively. The change of basis into the first component\n",
    "identifies the antisymetric subspace, also known as the *singlet state*:"
   ]
  },
  {
   "cell_type": "code",
   "execution_count": 9,
   "id": "4c708449",
   "metadata": {
    "execution": {
     "iopub.execute_input": "2022-01-26T22:23:39.686968Z",
     "iopub.status.busy": "2022-01-26T22:23:39.686319Z",
     "iopub.status.idle": "2022-01-26T22:23:39.709937Z",
     "shell.execute_reply": "2022-01-26T22:23:39.709378Z"
    }
   },
   "outputs": [
    {
     "name": "stdout",
     "output_type": "stream",
     "text": [
      "singletBasis =\r\n",
      "\r\n",
      "        0\r\n",
      "   0.5000\r\n",
      "  -0.5000\r\n",
      "        0\r\n",
      "\r\n"
     ]
    },
    {
     "name": "stdout",
     "output_type": "stream",
     "text": [
      "rest =\r\n",
      "\r\n",
      "   1.0000        0        0\r\n",
      "        0        0   0.5000\r\n",
      "        0        0   0.5000\r\n",
      "        0   1.0000        0\r\n",
      "\r\n"
     ]
    }
   ],
   "source": [
    "singletBasis = dec.component(1).basis\n",
    "rest = dec.component(2).basis"
   ]
  }
 ],
 "metadata": {
  "jupytext": {
   "cell_metadata_filter": "-all",
   "main_language": "matlab",
   "notebook_metadata_filter": "-all",
   "text_representation": {
    "extension": ".m",
    "format_name": "light"
   }
  },
  "language_info": {
   "file_extension": ".m",
   "help_links": [
    {
     "text": "GNU Octave",
     "url": "https://www.gnu.org/software/octave/support.html"
    },
    {
     "text": "Octave Kernel",
     "url": "https://github.com/Calysto/octave_kernel"
    },
    {
     "text": "MetaKernel Magics",
     "url": "https://metakernel.readthedocs.io/en/latest/source/README.html"
    }
   ],
   "mimetype": "text/x-octave",
   "name": "octave",
   "version": "6.2.0"
  }
 },
 "nbformat": 4,
 "nbformat_minor": 5
}
