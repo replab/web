{
 "cells": [
  {
   "cell_type": "markdown",
   "id": "60dcd3cc",
   "metadata": {},
   "source": [
    "# Tutorial for physicists\n",
    "\n",
    "The unitary group $U(n)$ describes the possible change of basis in the\n",
    "complex Hilbert space of dimension $n$. For $n=2$, this captures the\n",
    "possible choices of basis in the qubit space $C^2$. For a system composed\n",
    "of two qubits, we can similarly define the effect of a joint change of\n",
    "basis performed on both subsystems simultaneously. It is known that a\n",
    "single state is invariant under such joint change of basis. Here, we\n",
    "identify this state by extracting the subspace of $(C^2)^{\\otimes 2}$\n",
    "which is invariant under the joint change of basis for both subsystems."
   ]
  },
  {
   "cell_type": "markdown",
   "id": "18329fe9",
   "metadata": {},
   "source": [
    "Before trying any of the *RepLAB* commands, we must initialize the library:"
   ]
  },
  {
   "cell_type": "code",
   "execution_count": 1,
   "id": "8d30bd51",
   "metadata": {
    "execution": {
     "iopub.execute_input": "2021-12-31T18:02:32.541990Z",
     "iopub.status.busy": "2021-12-31T18:02:32.541570Z",
     "iopub.status.idle": "2021-12-31T18:02:38.397265Z",
     "shell.execute_reply": "2021-12-31T18:02:38.396777Z"
    }
   },
   "outputs": [
    {
     "name": "stdout",
     "output_type": "stream",
     "text": [
      "replab_init: Initialization done.\r\n"
     ]
    }
   ],
   "source": [
    "addpath([pwd, '/../../../external/replab']);\n",
    "replab_init('verbose', 0);"
   ]
  },
  {
   "cell_type": "markdown",
   "id": "748b9df6",
   "metadata": {},
   "source": [
    "## The unitary group representation\n",
    "\n",
    "Changes of bases for one system are described by the group $U(2)$"
   ]
  },
  {
   "cell_type": "code",
   "execution_count": 2,
   "id": "252ddc20",
   "metadata": {
    "execution": {
     "iopub.execute_input": "2021-12-31T18:02:38.400192Z",
     "iopub.status.busy": "2021-12-31T18:02:38.399637Z",
     "iopub.status.idle": "2021-12-31T18:02:38.422339Z",
     "shell.execute_reply": "2021-12-31T18:02:38.421762Z"
    }
   },
   "outputs": [],
   "source": [
    "d = 2;\n",
    "U2 = replab.U(d);"
   ]
  },
  {
   "cell_type": "markdown",
   "id": "2d82601e",
   "metadata": {},
   "source": [
    "We construct the defining representation of this group, which acts on $C^2$:"
   ]
  },
  {
   "cell_type": "code",
   "execution_count": 3,
   "id": "32bc6c90",
   "metadata": {
    "execution": {
     "iopub.execute_input": "2021-12-31T18:02:38.424772Z",
     "iopub.status.busy": "2021-12-31T18:02:38.424087Z",
     "iopub.status.idle": "2021-12-31T18:02:38.448974Z",
     "shell.execute_reply": "2021-12-31T18:02:38.448596Z"
    }
   },
   "outputs": [],
   "source": [
    "U2Rep = U2.definingRep;"
   ]
  },
  {
   "cell_type": "markdown",
   "id": "92fcab7c",
   "metadata": {},
   "source": [
    "## Tensor product of two representations\n",
    "\n",
    "We can now construct the representation which acts jointly on two\n",
    "subsystems of dimension 2:"
   ]
  },
  {
   "cell_type": "code",
   "execution_count": 4,
   "id": "b2e48231",
   "metadata": {
    "execution": {
     "iopub.execute_input": "2021-12-31T18:02:38.451306Z",
     "iopub.status.busy": "2021-12-31T18:02:38.450868Z",
     "iopub.status.idle": "2021-12-31T18:02:38.467871Z",
     "shell.execute_reply": "2021-12-31T18:02:38.468198Z"
    }
   },
   "outputs": [],
   "source": [
    "U2TensorRep = kron(U2Rep, U2Rep);"
   ]
  },
  {
   "cell_type": "markdown",
   "id": "19ea68a3",
   "metadata": {},
   "source": [
    "To identify the subspaces which are invariant under this group, we decompose the representation:"
   ]
  },
  {
   "cell_type": "code",
   "execution_count": 5,
   "id": "f1ac4ee3",
   "metadata": {
    "execution": {
     "iopub.execute_input": "2021-12-31T18:02:38.470765Z",
     "iopub.status.busy": "2021-12-31T18:02:38.470345Z",
     "iopub.status.idle": "2021-12-31T18:02:42.321976Z",
     "shell.execute_reply": "2021-12-31T18:02:42.321187Z"
    }
   },
   "outputs": [],
   "source": [
    "dec = U2TensorRep.decomposition.nice;"
   ]
  },
  {
   "cell_type": "markdown",
   "id": "0668b336",
   "metadata": {},
   "source": [
    "The decomposition has"
   ]
  },
  {
   "cell_type": "code",
   "execution_count": 6,
   "id": "231dcf29",
   "metadata": {
    "execution": {
     "iopub.execute_input": "2021-12-31T18:02:42.324886Z",
     "iopub.status.busy": "2021-12-31T18:02:42.324286Z",
     "iopub.status.idle": "2021-12-31T18:02:42.337485Z",
     "shell.execute_reply": "2021-12-31T18:02:42.337110Z"
    }
   },
   "outputs": [
    {
     "name": "stdout",
     "output_type": "stream",
     "text": [
      "ans = 2\r\n"
     ]
    }
   ],
   "source": [
    "dec.nComponents"
   ]
  },
  {
   "cell_type": "markdown",
   "id": "924ed763",
   "metadata": {},
   "source": [
    "components, of dimension"
   ]
  },
  {
   "cell_type": "code",
   "execution_count": 7,
   "id": "e6e65fce",
   "metadata": {
    "execution": {
     "iopub.execute_input": "2021-12-31T18:02:42.339897Z",
     "iopub.status.busy": "2021-12-31T18:02:42.339441Z",
     "iopub.status.idle": "2021-12-31T18:02:42.352422Z",
     "shell.execute_reply": "2021-12-31T18:02:42.352050Z"
    }
   },
   "outputs": [
    {
     "name": "stdout",
     "output_type": "stream",
     "text": [
      "ans = 1\r\n"
     ]
    }
   ],
   "source": [
    "dec.component(1).irrepDimension"
   ]
  },
  {
   "cell_type": "markdown",
   "id": "29815a3e",
   "metadata": {},
   "source": [
    "and"
   ]
  },
  {
   "cell_type": "code",
   "execution_count": 8,
   "id": "1f4fdc6f",
   "metadata": {
    "execution": {
     "iopub.execute_input": "2021-12-31T18:02:42.354949Z",
     "iopub.status.busy": "2021-12-31T18:02:42.354532Z",
     "iopub.status.idle": "2021-12-31T18:02:42.367227Z",
     "shell.execute_reply": "2021-12-31T18:02:42.366856Z"
    }
   },
   "outputs": [
    {
     "name": "stdout",
     "output_type": "stream",
     "text": [
      "ans = 3\r\n"
     ]
    }
   ],
   "source": [
    "dec.component(2).irrepDimension"
   ]
  },
  {
   "cell_type": "markdown",
   "id": "7aacf893",
   "metadata": {},
   "source": [
    "These are the antisymmetric and symmetric subspaces respectively. The change of basis into the first component\n",
    "identifies the antisymetric subspace, also known as the *singlet state*:"
   ]
  },
  {
   "cell_type": "code",
   "execution_count": 9,
   "id": "763128fa",
   "metadata": {
    "execution": {
     "iopub.execute_input": "2021-12-31T18:02:42.369708Z",
     "iopub.status.busy": "2021-12-31T18:02:42.369289Z",
     "iopub.status.idle": "2021-12-31T18:02:42.387398Z",
     "shell.execute_reply": "2021-12-31T18:02:42.387765Z"
    }
   },
   "outputs": [
    {
     "name": "stdout",
     "output_type": "stream",
     "text": [
      "singletBasis =\r\n",
      "\r\n",
      "        0\r\n",
      "   0.5000\r\n",
      "  -0.5000\r\n",
      "        0\r\n",
      "\r\n"
     ]
    },
    {
     "name": "stdout",
     "output_type": "stream",
     "text": [
      "rest =\r\n",
      "\r\n",
      "   1.0000        0        0\r\n",
      "        0        0   0.5000\r\n",
      "        0        0   0.5000\r\n",
      "        0   1.0000        0\r\n",
      "\r\n"
     ]
    }
   ],
   "source": [
    "singletBasis = dec.component(1).basis\n",
    "rest = dec.component(2).basis"
   ]
  }
 ],
 "metadata": {
  "jupytext": {
   "cell_metadata_filter": "-all",
   "main_language": "matlab",
   "notebook_metadata_filter": "-all",
   "text_representation": {
    "extension": ".m",
    "format_name": "light"
   }
  },
  "language_info": {
   "file_extension": ".m",
   "help_links": [
    {
     "text": "GNU Octave",
     "url": "https://www.gnu.org/software/octave/support.html"
    },
    {
     "text": "Octave Kernel",
     "url": "https://github.com/Calysto/octave_kernel"
    },
    {
     "text": "MetaKernel Magics",
     "url": "https://metakernel.readthedocs.io/en/latest/source/README.html"
    }
   ],
   "mimetype": "text/x-octave",
   "name": "octave",
   "version": "6.2.0"
  }
 },
 "nbformat": 4,
 "nbformat_minor": 5
}
