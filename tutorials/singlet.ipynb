{
 "cells": [
  {
   "cell_type": "markdown",
   "id": "d866301c",
   "metadata": {},
   "source": [
    "# Tutorial for physicists\n",
    "\n",
    "The unitary group $U(n)$ describes the possible change of basis in the\n",
    "complex Hilbert space of dimension $n$. For $n=2$, this captures the\n",
    "possible choices of basis in the qubit space $C^2$. For a system composed\n",
    "of two qubits, we can similarly define the effect of a joint change of\n",
    "basis performed on both subsystems simultaneously. It is known that a\n",
    "single state is invariant under such joint change of basis. Here, we\n",
    "identify this state by extracting the subspace of $(C^2)^{\\otimes 2}$\n",
    "which is invariant under the joint change of basis for both subsystems."
   ]
  },
  {
   "cell_type": "markdown",
   "id": "9768e1f2",
   "metadata": {},
   "source": [
    "Before trying any of the *RepLAB* commands, we must initialize the library:"
   ]
  },
  {
   "cell_type": "code",
   "execution_count": 1,
   "id": "c0a296cc",
   "metadata": {
    "execution": {
     "iopub.execute_input": "2022-01-26T22:34:18.694358Z",
     "iopub.status.busy": "2022-01-26T22:34:18.693969Z",
     "iopub.status.idle": "2022-01-26T22:34:24.494133Z",
     "shell.execute_reply": "2022-01-26T22:34:24.493681Z"
    }
   },
   "outputs": [
    {
     "name": "stdout",
     "output_type": "stream",
     "text": [
      "replab_init: Initialization done.\r\n"
     ]
    }
   ],
   "source": [
    "addpath([pwd, '/../../../external/replab']);\n",
    "replab_init('verbose', 0);"
   ]
  },
  {
   "cell_type": "markdown",
   "id": "c3f229be",
   "metadata": {},
   "source": [
    "## The unitary group representation\n",
    "\n",
    "Changes of bases for one system are described by the group $U(2)$"
   ]
  },
  {
   "cell_type": "code",
   "execution_count": 2,
   "id": "b80f9d28",
   "metadata": {
    "execution": {
     "iopub.execute_input": "2022-01-26T22:34:24.496513Z",
     "iopub.status.busy": "2022-01-26T22:34:24.496117Z",
     "iopub.status.idle": "2022-01-26T22:34:24.517112Z",
     "shell.execute_reply": "2022-01-26T22:34:24.516769Z"
    }
   },
   "outputs": [],
   "source": [
    "d = 2;\n",
    "U2 = replab.U(d);"
   ]
  },
  {
   "cell_type": "markdown",
   "id": "405785f4",
   "metadata": {},
   "source": [
    "We construct the defining representation of this group, which acts on $C^2$:"
   ]
  },
  {
   "cell_type": "code",
   "execution_count": 3,
   "id": "0a76b86b",
   "metadata": {
    "execution": {
     "iopub.execute_input": "2022-01-26T22:34:24.519653Z",
     "iopub.status.busy": "2022-01-26T22:34:24.519260Z",
     "iopub.status.idle": "2022-01-26T22:34:24.542594Z",
     "shell.execute_reply": "2022-01-26T22:34:24.542229Z"
    }
   },
   "outputs": [],
   "source": [
    "U2Rep = U2.definingRep;"
   ]
  },
  {
   "cell_type": "markdown",
   "id": "b7084fce",
   "metadata": {},
   "source": [
    "## Tensor product of two representations\n",
    "\n",
    "We can now construct the representation which acts jointly on two\n",
    "subsystems of dimension 2:"
   ]
  },
  {
   "cell_type": "code",
   "execution_count": 4,
   "id": "b347bb1c",
   "metadata": {
    "execution": {
     "iopub.execute_input": "2022-01-26T22:34:24.545096Z",
     "iopub.status.busy": "2022-01-26T22:34:24.544699Z",
     "iopub.status.idle": "2022-01-26T22:34:24.561064Z",
     "shell.execute_reply": "2022-01-26T22:34:24.560690Z"
    }
   },
   "outputs": [],
   "source": [
    "U2TensorRep = kron(U2Rep, U2Rep);"
   ]
  },
  {
   "cell_type": "markdown",
   "id": "5a281224",
   "metadata": {},
   "source": [
    "To identify the subspaces which are invariant under this group, we decompose the representation:"
   ]
  },
  {
   "cell_type": "code",
   "execution_count": 5,
   "id": "570f7fb0",
   "metadata": {
    "execution": {
     "iopub.execute_input": "2022-01-26T22:34:24.563594Z",
     "iopub.status.busy": "2022-01-26T22:34:24.563210Z",
     "iopub.status.idle": "2022-01-26T22:34:28.322909Z",
     "shell.execute_reply": "2022-01-26T22:34:28.322238Z"
    }
   },
   "outputs": [],
   "source": [
    "dec = U2TensorRep.decomposition.nice;"
   ]
  },
  {
   "cell_type": "markdown",
   "id": "61bf7642",
   "metadata": {},
   "source": [
    "The decomposition has"
   ]
  },
  {
   "cell_type": "code",
   "execution_count": 6,
   "id": "00ab3612",
   "metadata": {
    "execution": {
     "iopub.execute_input": "2022-01-26T22:34:28.325603Z",
     "iopub.status.busy": "2022-01-26T22:34:28.325195Z",
     "iopub.status.idle": "2022-01-26T22:34:28.336665Z",
     "shell.execute_reply": "2022-01-26T22:34:28.336094Z"
    }
   },
   "outputs": [
    {
     "name": "stdout",
     "output_type": "stream",
     "text": [
      "ans = 2\r\n"
     ]
    }
   ],
   "source": [
    "dec.nComponents"
   ]
  },
  {
   "cell_type": "markdown",
   "id": "2aa4ddc9",
   "metadata": {},
   "source": [
    "components, of dimension"
   ]
  },
  {
   "cell_type": "code",
   "execution_count": 7,
   "id": "11e4b45b",
   "metadata": {
    "execution": {
     "iopub.execute_input": "2022-01-26T22:34:28.339208Z",
     "iopub.status.busy": "2022-01-26T22:34:28.338804Z",
     "iopub.status.idle": "2022-01-26T22:34:28.350393Z",
     "shell.execute_reply": "2022-01-26T22:34:28.349834Z"
    }
   },
   "outputs": [
    {
     "name": "stdout",
     "output_type": "stream",
     "text": [
      "ans = 1\r\n"
     ]
    }
   ],
   "source": [
    "dec.component(1).irrepDimension"
   ]
  },
  {
   "cell_type": "markdown",
   "id": "6020ddbf",
   "metadata": {},
   "source": [
    "and"
   ]
  },
  {
   "cell_type": "code",
   "execution_count": 8,
   "id": "d80042ee",
   "metadata": {
    "execution": {
     "iopub.execute_input": "2022-01-26T22:34:28.352605Z",
     "iopub.status.busy": "2022-01-26T22:34:28.352200Z",
     "iopub.status.idle": "2022-01-26T22:34:28.364385Z",
     "shell.execute_reply": "2022-01-26T22:34:28.364040Z"
    }
   },
   "outputs": [
    {
     "name": "stdout",
     "output_type": "stream",
     "text": [
      "ans = 3\r\n"
     ]
    }
   ],
   "source": [
    "dec.component(2).irrepDimension"
   ]
  },
  {
   "cell_type": "markdown",
   "id": "0f42bb48",
   "metadata": {},
   "source": [
    "These are the antisymmetric and symmetric subspaces respectively. The change of basis into the first component\n",
    "identifies the antisymetric subspace, also known as the *singlet state*:"
   ]
  },
  {
   "cell_type": "code",
   "execution_count": 9,
   "id": "b186a7c5",
   "metadata": {
    "execution": {
     "iopub.execute_input": "2022-01-26T22:34:28.366839Z",
     "iopub.status.busy": "2022-01-26T22:34:28.366453Z",
     "iopub.status.idle": "2022-01-26T22:34:28.382826Z",
     "shell.execute_reply": "2022-01-26T22:34:28.383131Z"
    }
   },
   "outputs": [
    {
     "name": "stdout",
     "output_type": "stream",
     "text": [
      "singletBasis =\r\n",
      "\r\n",
      "        0\r\n",
      "   0.5000\r\n",
      "  -0.5000\r\n",
      "        0\r\n",
      "\r\n"
     ]
    },
    {
     "name": "stdout",
     "output_type": "stream",
     "text": [
      "rest =\r\n",
      "\r\n",
      "   1.0000        0        0\r\n",
      "        0        0   0.5000\r\n",
      "        0        0   0.5000\r\n",
      "        0   1.0000        0\r\n",
      "\r\n"
     ]
    }
   ],
   "source": [
    "singletBasis = dec.component(1).basis\n",
    "rest = dec.component(2).basis"
   ]
  }
 ],
 "metadata": {
  "jupytext": {
   "cell_metadata_filter": "-all",
   "main_language": "matlab",
   "notebook_metadata_filter": "-all",
   "text_representation": {
    "extension": ".m",
    "format_name": "light"
   }
  },
  "language_info": {
   "file_extension": ".m",
   "help_links": [
    {
     "text": "GNU Octave",
     "url": "https://www.gnu.org/software/octave/support.html"
    },
    {
     "text": "Octave Kernel",
     "url": "https://github.com/Calysto/octave_kernel"
    },
    {
     "text": "MetaKernel Magics",
     "url": "https://metakernel.readthedocs.io/en/latest/source/README.html"
    }
   ],
   "mimetype": "text/x-octave",
   "name": "octave",
   "version": "6.2.0"
  }
 },
 "nbformat": 4,
 "nbformat_minor": 5
}
