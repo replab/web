{
 "cells": [
  {
   "cell_type": "markdown",
   "id": "d30a4b62",
   "metadata": {},
   "source": [
    "# Tutorial for mathematicians\n",
    "\n",
    "The symmetric group $S_n$ is group of primary importance. Here, we consider this group for $n=3$ and discuss several of its representations with *RepLAB*.\n",
    "\n",
    "Before trying any of the *RepLAB* commands, we must initialize the library:"
   ]
  },
  {
   "cell_type": "code",
   "execution_count": 1,
   "id": "c2aa4781",
   "metadata": {
    "execution": {
     "iopub.execute_input": "2021-12-29T16:17:26.810209Z",
     "iopub.status.busy": "2021-12-29T16:17:26.809574Z",
     "iopub.status.idle": "2021-12-29T16:17:32.624160Z",
     "shell.execute_reply": "2021-12-29T16:17:32.623654Z"
    }
   },
   "outputs": [
    {
     "name": "stdout",
     "output_type": "stream",
     "text": [
      "replab_init: Initialization done.\r\n"
     ]
    }
   ],
   "source": [
    "addpath([pwd, '/../../../external/replab']);\n",
    "replab_init('verbose', 0);"
   ]
  },
  {
   "cell_type": "markdown",
   "id": "962228f2",
   "metadata": {},
   "source": [
    "## The symmetric group\n",
    "\n",
    "Consider $n$ distinct elements, numbered $1,2,\\ldots,n$. The symmetric group describes all possible ways in which these elements can be permuted.\n",
    "\n",
    "With $n=3$, for instance, two possible arrangements are"
   ]
  },
  {
   "cell_type": "code",
   "execution_count": 2,
   "id": "412b2f86",
   "metadata": {
    "execution": {
     "iopub.execute_input": "2021-12-29T16:17:32.627144Z",
     "iopub.status.busy": "2021-12-29T16:17:32.626753Z",
     "iopub.status.idle": "2021-12-29T16:17:32.640066Z",
     "shell.execute_reply": "2021-12-29T16:17:32.639629Z"
    }
   },
   "outputs": [],
   "source": [
    "[1 2 3];"
   ]
  },
  {
   "cell_type": "markdown",
   "id": "afb21f46",
   "metadata": {},
   "source": [
    "and"
   ]
  },
  {
   "cell_type": "code",
   "execution_count": 3,
   "id": "6567023d",
   "metadata": {
    "execution": {
     "iopub.execute_input": "2021-12-29T16:17:32.643078Z",
     "iopub.status.busy": "2021-12-29T16:17:32.642384Z",
     "iopub.status.idle": "2021-12-29T16:17:32.654105Z",
     "shell.execute_reply": "2021-12-29T16:17:32.653461Z"
    }
   },
   "outputs": [],
   "source": [
    "[1 3 2];"
   ]
  },
  {
   "cell_type": "markdown",
   "id": "d2b49d69",
   "metadata": {},
   "source": [
    "In general there are $n!$ such arrangements (i.e. $6$ arrangements for $n=3$).\n",
    "\n",
    "In *RepLAB*, the symmetric group can be constructed with a simple command"
   ]
  },
  {
   "cell_type": "code",
   "execution_count": 4,
   "id": "d1cc1dca",
   "metadata": {
    "execution": {
     "iopub.execute_input": "2021-12-29T16:17:32.656790Z",
     "iopub.status.busy": "2021-12-29T16:17:32.656371Z",
     "iopub.status.idle": "2021-12-29T16:17:32.700416Z",
     "shell.execute_reply": "2021-12-29T16:17:32.700001Z"
    }
   },
   "outputs": [],
   "source": [
    "n = 3;\n",
    "S3 = replab.S(n);"
   ]
  },
  {
   "cell_type": "markdown",
   "id": "f3b805f9",
   "metadata": {},
   "source": [
    "The elements of the group can be easily listed"
   ]
  },
  {
   "cell_type": "code",
   "execution_count": 5,
   "id": "d38b92e5",
   "metadata": {
    "execution": {
     "iopub.execute_input": "2021-12-29T16:17:32.703324Z",
     "iopub.status.busy": "2021-12-29T16:17:32.702733Z",
     "iopub.status.idle": "2021-12-29T16:17:32.747010Z",
     "shell.execute_reply": "2021-12-29T16:17:32.746624Z"
    }
   },
   "outputs": [
    {
     "name": "stdout",
     "output_type": "stream",
     "text": [
      "ans =\r\n",
      "{\r\n",
      "  [1,1] =\r\n",
      "\r\n",
      "     1   2   3\r\n",
      "\r\n",
      "  [1,2] =\r\n",
      "\r\n",
      "     1   3   2\r\n",
      "\r\n",
      "  [1,3] =\r\n",
      "\r\n",
      "     2   1   3\r\n",
      "\r\n",
      "  [1,4] =\r\n",
      "\r\n",
      "     2   3   1\r\n",
      "\r\n",
      "  [1,5] =\r\n",
      "\r\n",
      "     3   1   2\r\n",
      "\r\n",
      "  [1,6] =\r\n",
      "\r\n",
      "     3   2   1\r\n",
      "\r\n",
      "}\r\n",
      "\r\n"
     ]
    }
   ],
   "source": [
    "S3.elements"
   ]
  },
  {
   "cell_type": "markdown",
   "id": "dbd3f6d1",
   "metadata": {},
   "source": [
    "The number of elements is the order of the group"
   ]
  },
  {
   "cell_type": "code",
   "execution_count": 6,
   "id": "344be87f",
   "metadata": {
    "execution": {
     "iopub.execute_input": "2021-12-29T16:17:32.749676Z",
     "iopub.status.busy": "2021-12-29T16:17:32.749306Z",
     "iopub.status.idle": "2021-12-29T16:17:32.763629Z",
     "shell.execute_reply": "2021-12-29T16:17:32.763272Z"
    }
   },
   "outputs": [
    {
     "name": "stdout",
     "output_type": "stream",
     "text": [
      "ans =\r\n",
      "    6\r\n"
     ]
    }
   ],
   "source": [
    "S3.order"
   ]
  },
  {
   "cell_type": "markdown",
   "id": "ed91a063",
   "metadata": {},
   "source": [
    "As we see, permutations are represented by row-vectors with an arrangement of the elements $1,\\ldots,n$.\n",
    "\n",
    "The group structure defines how elements of the group compose with each other.\n",
    "For instance, permuting the first two elements in $1,2,3$, followed by a permutation of the second and third elements results in a cyclic permutation:"
   ]
  },
  {
   "cell_type": "code",
   "execution_count": 7,
   "id": "b608ec14",
   "metadata": {
    "execution": {
     "iopub.execute_input": "2021-12-29T16:17:32.766358Z",
     "iopub.status.busy": "2021-12-29T16:17:32.765977Z",
     "iopub.status.idle": "2021-12-29T16:17:32.790924Z",
     "shell.execute_reply": "2021-12-29T16:17:32.790385Z"
    }
   },
   "outputs": [
    {
     "name": "stdout",
     "output_type": "stream",
     "text": [
      "ans =\r\n",
      "\r\n",
      "   2   3   1\r\n",
      "\r\n"
     ]
    }
   ],
   "source": [
    "element1 = [2 1 3];\n",
    "element2 = [1 3 2];\n",
    "S3.compose(element1, element2)"
   ]
  },
  {
   "cell_type": "markdown",
   "id": "a123a1bc",
   "metadata": {},
   "source": [
    "## The natural representation of S(3)\n",
    "\n",
    "A group can always be represented by matrices of finite dimension. In a $d$-dimensional matrix representation, each group element is associated with a $d \\times d$ matrix called the image of the group\n",
    "element. The action of matrix multiplication on the images then reflects the group composition rule.\n",
    "\n",
    "Several matrix representations are possible for the same group, possibly in various dimension $d$. Here, we are going to explore some representations of the group $S_3$\n",
    "\n",
    "When seeing the group as a permutation within $n$ elements, a natural choice of representation arises in dimension $d=n$, where the permutation\n",
    "is applied to the coordinates of the vector space $R^n$. This is called the *natural representation* of a group. It can be constructed easily:"
   ]
  },
  {
   "cell_type": "code",
   "execution_count": 8,
   "id": "b2e1b9db",
   "metadata": {
    "execution": {
     "iopub.execute_input": "2021-12-29T16:17:32.794445Z",
     "iopub.status.busy": "2021-12-29T16:17:32.794067Z",
     "iopub.status.idle": "2021-12-29T16:17:32.927277Z",
     "shell.execute_reply": "2021-12-29T16:17:32.927595Z"
    }
   },
   "outputs": [],
   "source": [
    "natRep = S3.naturalRep;"
   ]
  },
  {
   "cell_type": "markdown",
   "id": "d7ad2365",
   "metadata": {},
   "source": [
    "The image of a group element in this representation can be extracted"
   ]
  },
  {
   "cell_type": "code",
   "execution_count": 9,
   "id": "d10193c9",
   "metadata": {
    "execution": {
     "iopub.execute_input": "2021-12-29T16:17:32.930310Z",
     "iopub.status.busy": "2021-12-29T16:17:32.929928Z",
     "iopub.status.idle": "2021-12-29T16:17:32.950742Z",
     "shell.execute_reply": "2021-12-29T16:17:32.950412Z"
    }
   },
   "outputs": [
    {
     "name": "stdout",
     "output_type": "stream",
     "text": [
      "ans =\r\n",
      "\r\n",
      "   0   1   0\r\n",
      "   1   0   0\r\n",
      "   0   0   1\r\n",
      "\r\n"
     ]
    }
   ],
   "source": [
    "natRep.image([2 1 3])"
   ]
  },
  {
   "cell_type": "markdown",
   "id": "b1bfec04",
   "metadata": {},
   "source": [
    "We see that the matrices representing the group elements are $n \\times n$ permutation matrices, which simply apply the permutation to the coordinates of the vector space $R^n$.\n",
    "\n",
    "For a representation to be valid, the images must follow the structure of the group:"
   ]
  },
  {
   "cell_type": "code",
   "execution_count": 10,
   "id": "bdabcfc8",
   "metadata": {
    "execution": {
     "iopub.execute_input": "2021-12-29T16:17:32.953449Z",
     "iopub.status.busy": "2021-12-29T16:17:32.953077Z",
     "iopub.status.idle": "2021-12-29T16:17:32.987792Z",
     "shell.execute_reply": "2021-12-29T16:17:32.987388Z"
    }
   },
   "outputs": [
    {
     "name": "stdout",
     "output_type": "stream",
     "text": [
      "ans =\r\n",
      "\r\n",
      "   0   0   1\r\n",
      "   1   0   0\r\n",
      "   0   1   0\r\n",
      "\r\n"
     ]
    },
    {
     "name": "stdout",
     "output_type": "stream",
     "text": [
      "ans =\r\n",
      "\r\n",
      "   0   0   1\r\n",
      "   1   0   0\r\n",
      "   0   1   0\r\n",
      "\r\n"
     ]
    }
   ],
   "source": [
    "image1 = natRep.image(element1);\n",
    "image2 = natRep.image(element2);\n",
    "image1*image2\n",
    "natRep.image(S3.compose(element1, element2))"
   ]
  },
  {
   "cell_type": "markdown",
   "id": "1e8128bb",
   "metadata": {},
   "source": [
    "We see that the image of the product of elements is indeed the product of the images of the respective elements, i.e. the algebra of matrices\n",
    "acting on the representation images accurately reflects the group algebra.\n",
    "\n",
    "It can be checked, moreover, that the natural representation is faithful, i.e. each group element has its own distinct image. This needs\n",
    "not always be the case as in the following two examples.\n",
    "\n",
    "## The parity representation of $S_3$\n",
    "\n",
    "To construct an arbitrary group representation in *RepLAB*, it is sufficient to provide the image of the generators of the group. The group $S_3$ has two generators:"
   ]
  },
  {
   "cell_type": "code",
   "execution_count": 11,
   "id": "15c082df",
   "metadata": {
    "execution": {
     "iopub.execute_input": "2021-12-29T16:17:32.990488Z",
     "iopub.status.busy": "2021-12-29T16:17:32.990123Z",
     "iopub.status.idle": "2021-12-29T16:17:33.009327Z",
     "shell.execute_reply": "2021-12-29T16:17:33.008963Z"
    }
   },
   "outputs": [
    {
     "name": "stdout",
     "output_type": "stream",
     "text": [
      "ans =\r\n",
      "\r\n",
      "   2   3   1\r\n",
      "\r\n",
      "ans =\r\n",
      "\r\n",
      "   2   1   3\r\n",
      "\r\n"
     ]
    }
   ],
   "source": [
    "generators = S3.generators;\n",
    "generators{:}"
   ]
  },
  {
   "cell_type": "markdown",
   "id": "b0e7b73a",
   "metadata": {},
   "source": [
    "Let us construct a representation of this group in dimension"
   ]
  },
  {
   "cell_type": "code",
   "execution_count": 12,
   "id": "cf2c6860",
   "metadata": {
    "execution": {
     "iopub.execute_input": "2021-12-29T16:17:33.012069Z",
     "iopub.status.busy": "2021-12-29T16:17:33.011656Z",
     "iopub.status.idle": "2021-12-29T16:17:33.024121Z",
     "shell.execute_reply": "2021-12-29T16:17:33.024439Z"
    }
   },
   "outputs": [],
   "source": [
    "d = 1;"
   ]
  },
  {
   "cell_type": "markdown",
   "id": "48168e9c",
   "metadata": {},
   "source": [
    "associating the each generator its parity (i.e. either $+1$ or $-1$). Since the parity of [2 3 1] is 1 and the parity of [2 1 3] is -1, this is achieved by instantiating calling the *repByImages* methods on the group:"
   ]
  },
  {
   "cell_type": "code",
   "execution_count": 13,
   "id": "1f32d698",
   "metadata": {
    "execution": {
     "iopub.execute_input": "2021-12-29T16:17:33.027167Z",
     "iopub.status.busy": "2021-12-29T16:17:33.026761Z",
     "iopub.status.idle": "2021-12-29T16:17:33.165840Z",
     "shell.execute_reply": "2021-12-29T16:17:33.165218Z"
    }
   },
   "outputs": [],
   "source": [
    "parRep = S3.repByImages('R', d, 'preimages', S3.generators, 'images', {1 -1});"
   ]
  },
  {
   "cell_type": "markdown",
   "id": "ac7f71c9",
   "metadata": {},
   "source": [
    "We can check that this representation is valid"
   ]
  },
  {
   "cell_type": "code",
   "execution_count": 14,
   "id": "4445dca0",
   "metadata": {
    "execution": {
     "iopub.execute_input": "2021-12-29T16:17:33.168304Z",
     "iopub.status.busy": "2021-12-29T16:17:33.167928Z",
     "iopub.status.idle": "2021-12-29T16:17:33.203134Z",
     "shell.execute_reply": "2021-12-29T16:17:33.202724Z"
    }
   },
   "outputs": [
    {
     "name": "stdout",
     "output_type": "stream",
     "text": [
      "image1 = -1\r\n"
     ]
    },
    {
     "name": "stdout",
     "output_type": "stream",
     "text": [
      "image2 = -1\r\n"
     ]
    },
    {
     "name": "stdout",
     "output_type": "stream",
     "text": [
      "ans = 1\r\n"
     ]
    },
    {
     "name": "stdout",
     "output_type": "stream",
     "text": [
      "ans = 1\r\n"
     ]
    }
   ],
   "source": [
    "image1 = parRep.image(element1)\n",
    "image2 = parRep.image(element2)\n",
    "image1*image2\n",
    "parRep.image(S3.compose(element1, element2))"
   ]
  },
  {
   "cell_type": "markdown",
   "id": "be85a2bc",
   "metadata": {},
   "source": [
    "The parity of each binary permutation ``[2 1 3]`` and ``[1 3 2]`` is $-1$, and their product, the cycle [2 3 1], has parity $1$.\n",
    "\n",
    "Clearly, this representation carries some information about the group, namely the parity, but some elements have the same image:"
   ]
  },
  {
   "cell_type": "code",
   "execution_count": 15,
   "id": "ec4b1622",
   "metadata": {
    "execution": {
     "iopub.execute_input": "2021-12-29T16:17:33.205545Z",
     "iopub.status.busy": "2021-12-29T16:17:33.205168Z",
     "iopub.status.idle": "2021-12-29T16:17:33.252954Z",
     "shell.execute_reply": "2021-12-29T16:17:33.252558Z"
    }
   },
   "outputs": [
    {
     "name": "stdout",
     "output_type": "stream",
     "text": [
      "Image of [1  2  3] : 1\r\n",
      "Image of [1  3  2] : -1\r\n",
      "Image of [2  1  3] : -1\r\n",
      "Image of [2  3  1] : 1\r\n",
      "Image of [3  1  2] : 1\r\n",
      "Image of [3  2  1] : -1\r\n"
     ]
    }
   ],
   "source": [
    "allElements = S3.elements;\n",
    "for i = 1:length(allElements)\n",
    "disp(['Image of [', num2str(allElements{i}), '] : ', num2str(parRep.image(allElements{i}))]);\n",
    "end"
   ]
  },
  {
   "cell_type": "markdown",
   "id": "a246148c",
   "metadata": {},
   "source": [
    "Therefore, this representation is not *faithful*.\n",
    "\n",
    "## The trivial representation of S(3)\n",
    "An even simpler representation of the group S(n) is one in which the image of all elements is set to $1$. This is called the *trivial representation*.\n",
    "\n",
    "It can be constructed similarly from the image of the generators:"
   ]
  },
  {
   "cell_type": "code",
   "execution_count": 16,
   "id": "db6b42a0",
   "metadata": {
    "execution": {
     "iopub.execute_input": "2021-12-29T16:17:33.255372Z",
     "iopub.status.busy": "2021-12-29T16:17:33.254956Z",
     "iopub.status.idle": "2021-12-29T16:17:33.382430Z",
     "shell.execute_reply": "2021-12-29T16:17:33.382029Z"
    }
   },
   "outputs": [],
   "source": [
    "trivRep = S3.repByImages('R', d, 'preimages', S3.generators, 'images', {1 1});"
   ]
  },
  {
   "cell_type": "markdown",
   "id": "3cfddb06",
   "metadata": {},
   "source": [
    "This time, the group law is trivially satisfied since all images are indeed equal to $1$:"
   ]
  },
  {
   "cell_type": "code",
   "execution_count": 17,
   "id": "231e1f91",
   "metadata": {
    "execution": {
     "iopub.execute_input": "2021-12-29T16:17:33.385161Z",
     "iopub.status.busy": "2021-12-29T16:17:33.384509Z",
     "iopub.status.idle": "2021-12-29T16:17:33.425130Z",
     "shell.execute_reply": "2021-12-29T16:17:33.425441Z"
    }
   },
   "outputs": [
    {
     "name": "stdout",
     "output_type": "stream",
     "text": [
      "Image of [1  2  3] : 1\r\n",
      "Image of [1  3  2] : 1\r\n",
      "Image of [2  1  3] : 1\r\n",
      "Image of [2  3  1] : 1\r\n",
      "Image of [3  1  2] : 1\r\n",
      "Image of [3  2  1] : 1\r\n"
     ]
    }
   ],
   "source": [
    "for i = 1:length(allElements)\n",
    "disp(['Image of [', num2str(allElements{i}), '] : ', num2str(trivRep.image(allElements{i}))]);\n",
    "end"
   ]
  },
  {
   "cell_type": "markdown",
   "id": "bcc782f6",
   "metadata": {},
   "source": [
    "## Direct sum of representation of S(3)\n",
    "\n",
    "We have seen that a group can admit several representations. Any two representations of a group in dimension $d_1$ and $d_2$ can be joined\n",
    "together by taking their *direct sum* in order to create a new valid representation in dimension $d_1 + d_2$.\n",
    "\n",
    "For instance, we can construct a $4$-dimensional representation of S(3) by taking the direct sum of the natural representation with the parity\n",
    "representation"
   ]
  },
  {
   "cell_type": "code",
   "execution_count": 18,
   "id": "a06ab890",
   "metadata": {
    "execution": {
     "iopub.execute_input": "2021-12-29T16:17:33.428195Z",
     "iopub.status.busy": "2021-12-29T16:17:33.427815Z",
     "iopub.status.idle": "2021-12-29T16:17:33.472792Z",
     "shell.execute_reply": "2021-12-29T16:17:33.472429Z"
    }
   },
   "outputs": [
    {
     "name": "stdout",
     "output_type": "stream",
     "text": [
      "newRep =\r\n",
      "\r\n",
      "Orthogonal direct sum representation\r\n",
      "dimension: 4\r\n",
      "    field: 'R'\r\n",
      "    group: Symmetric group acting on 3 elements\r\n",
      "isUnitary: true\r\n",
      "factor(1): Orthogonal reducible representation\r\n",
      "factor(2): Orthogonal representation\r\n",
      "\r\n"
     ]
    }
   ],
   "source": [
    "newRep = blkdiag(natRep, parRep)"
   ]
  },
  {
   "cell_type": "markdown",
   "id": "c4dcecb8",
   "metadata": {},
   "source": [
    "The images are then $4 \\times 4$ matrices"
   ]
  },
  {
   "cell_type": "code",
   "execution_count": 19,
   "id": "a6a72ade",
   "metadata": {
    "execution": {
     "iopub.execute_input": "2021-12-29T16:17:33.475523Z",
     "iopub.status.busy": "2021-12-29T16:17:33.475158Z",
     "iopub.status.idle": "2021-12-29T16:17:33.500426Z",
     "shell.execute_reply": "2021-12-29T16:17:33.500043Z"
    }
   },
   "outputs": [
    {
     "name": "stdout",
     "output_type": "stream",
     "text": [
      "ans =\r\n",
      "\r\n",
      "   0   1   0   0\r\n",
      "   1   0   0   0\r\n",
      "   0   0   1   0\r\n",
      "   0   0   0  -1\r\n",
      "\r\n"
     ]
    },
    {
     "name": "stdout",
     "output_type": "stream",
     "text": [
      "ans =\r\n",
      "\r\n",
      "   1   0   0   0\r\n",
      "   0   0   1   0\r\n",
      "   0   1   0   0\r\n",
      "   0   0   0  -1\r\n",
      "\r\n"
     ]
    }
   ],
   "source": [
    "newRep.image(element1)\n",
    "newRep.image(element2)"
   ]
  },
  {
   "cell_type": "markdown",
   "id": "a20bf0c7",
   "metadata": {},
   "source": [
    "As expected, the images have a block diagonal structure. The properties\n",
    "of a direct sum representation are thus captured by the properties of\n",
    "the representation in each block. Such a representation is *reducible*.\n",
    "\n",
    "## Irreducible representations of S(3)\n",
    "\n",
    "Given a representation, it is not always obvious whether it is the direct\n",
    "sum of more fundamental representations or if the representation is\n",
    "*irreducible*. For instance, the images of the natural representation\n",
    "introduced above are not obviously block-diagonal. Yet, this\n",
    "representation is also reducible. To see this, one needs to find a basis\n",
    "of the vector space $R^d$ in which the images have a block diagonal\n",
    "structure.\n",
    "\n",
    "This can be achieved in *RepLAB* by decomposing the representation"
   ]
  },
  {
   "cell_type": "code",
   "execution_count": 20,
   "id": "fdb31636",
   "metadata": {
    "execution": {
     "iopub.execute_input": "2021-12-29T16:17:33.503137Z",
     "iopub.status.busy": "2021-12-29T16:17:33.502727Z",
     "iopub.status.idle": "2021-12-29T16:17:35.645402Z",
     "shell.execute_reply": "2021-12-29T16:17:35.645029Z"
    }
   },
   "outputs": [
    {
     "name": "stdout",
     "output_type": "stream",
     "text": [
      "warning: -largeArrayDims and -compatibleArrayDims are accepted for compatibility, but ignored"
     ]
    },
    {
     "name": "stdout",
     "output_type": "stream",
     "text": [
      "\r\n"
     ]
    },
    {
     "name": "stdout",
     "output_type": "stream",
     "text": [
      "ans = 2\r\n"
     ]
    }
   ],
   "source": [
    "natDec = natRep.decomposition.nice;\n",
    "natDec.nComponents"
   ]
  },
  {
   "cell_type": "markdown",
   "id": "fb14deb5",
   "metadata": {},
   "source": [
    "This shows that the defininig representation of $S_3$ has two *irreducible components*, of dimension $1$ and $2$ respectively:"
   ]
  },
  {
   "cell_type": "code",
   "execution_count": 21,
   "id": "966b9637",
   "metadata": {
    "execution": {
     "iopub.execute_input": "2021-12-29T16:17:35.648265Z",
     "iopub.status.busy": "2021-12-29T16:17:35.647882Z",
     "iopub.status.idle": "2021-12-29T16:17:35.666891Z",
     "shell.execute_reply": "2021-12-29T16:17:35.666458Z"
    }
   },
   "outputs": [
    {
     "name": "stdout",
     "output_type": "stream",
     "text": [
      "ans = 1\r\n"
     ]
    },
    {
     "name": "stdout",
     "output_type": "stream",
     "text": [
      "ans = 2\r\n"
     ]
    }
   ],
   "source": [
    "natDec.component(1).irrepDimension\n",
    "natDec.component(2).irrepDimension"
   ]
  },
  {
   "cell_type": "markdown",
   "id": "7ef15d17",
   "metadata": {},
   "source": [
    "The decomposition also provides the change of basis matrix which makes |this decomposition apparent"
   ]
  },
  {
   "cell_type": "code",
   "execution_count": 22,
   "id": "6f89b0d9",
   "metadata": {
    "execution": {
     "iopub.execute_input": "2021-12-29T16:17:35.669531Z",
     "iopub.status.busy": "2021-12-29T16:17:35.669136Z",
     "iopub.status.idle": "2021-12-29T16:17:35.684249Z",
     "shell.execute_reply": "2021-12-29T16:17:35.683901Z"
    }
   },
   "outputs": [
    {
     "name": "stdout",
     "output_type": "stream",
     "text": [
      "basis =\r\n",
      "\r\n",
      "   0.3333   0.6667  -0.3333\r\n",
      "   0.3333  -0.3333   0.6667\r\n",
      "   0.3333  -0.3333  -0.3333\r\n",
      "\r\n"
     ]
    }
   ],
   "source": [
    "basis = natDec.basis"
   ]
  },
  {
   "cell_type": "markdown",
   "id": "73e7f9d9",
   "metadata": {},
   "source": [
    "The images of the two elements of $S_3$, ``[2 1 3]`` and ``[1 3 2]`` are indeed block-diagonal in this basis:"
   ]
  },
  {
   "cell_type": "code",
   "execution_count": 23,
   "id": "d6862548",
   "metadata": {
    "execution": {
     "iopub.execute_input": "2021-12-29T16:17:35.686979Z",
     "iopub.status.busy": "2021-12-29T16:17:35.686600Z",
     "iopub.status.idle": "2021-12-29T16:17:35.711420Z",
     "shell.execute_reply": "2021-12-29T16:17:35.710855Z"
    }
   },
   "outputs": [
    {
     "name": "stdout",
     "output_type": "stream",
     "text": [
      "ans =\r\n",
      "\r\n",
      "   1   0   0\r\n",
      "   0   0   1\r\n",
      "   0   1   0\r\n",
      "\r\n"
     ]
    },
    {
     "name": "stdout",
     "output_type": "stream",
     "text": [
      "ans =\r\n",
      "\r\n",
      "   1   0   0\r\n",
      "   0   1  -1\r\n",
      "   0   0  -1\r\n",
      "\r\n"
     ]
    }
   ],
   "source": [
    "inv(basis)*natRep.image(element1)*basis\n",
    "inv(basis)*natRep.image(element2)*basis"
   ]
  },
  {
   "cell_type": "markdown",
   "id": "0b8f4132",
   "metadata": {},
   "source": [
    "## Summary\n",
    "\n",
    "This shows that the natural representation of S(3) contains\n",
    "\n",
    "* One copy of the trivial representation of S(3)\n",
    "* One copy of the a faithful 2 x 2 representation of S(3)"
   ]
  }
 ],
 "metadata": {
  "jupytext": {
   "cell_metadata_filter": "-all",
   "main_language": "matlab",
   "notebook_metadata_filter": "-all",
   "text_representation": {
    "extension": ".m",
    "format_name": "light"
   }
  },
  "language_info": {
   "file_extension": ".m",
   "help_links": [
    {
     "text": "GNU Octave",
     "url": "https://www.gnu.org/software/octave/support.html"
    },
    {
     "text": "Octave Kernel",
     "url": "https://github.com/Calysto/octave_kernel"
    },
    {
     "text": "MetaKernel Magics",
     "url": "https://metakernel.readthedocs.io/en/latest/source/README.html"
    }
   ],
   "mimetype": "text/x-octave",
   "name": "octave",
   "version": "6.2.0"
  }
 },
 "nbformat": 4,
 "nbformat_minor": 5
}
