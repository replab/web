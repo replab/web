{
 "cells": [
  {
   "cell_type": "markdown",
   "id": "89617038",
   "metadata": {},
   "source": [
    "# Tutorial for physicists\n",
    "\n",
    "The unitary group $U(n)$ describes the possible change of basis in the\n",
    "complex Hilbert space of dimension $n$. For $n=2$, this captures the\n",
    "possible choices of basis in the qubit space $C^2$. For a system composed\n",
    "of two qubits, we can similarly define the effect of a joint change of\n",
    "basis performed on both subsystems simultaneously. It is known that a\n",
    "single state is invariant under such joint change of basis. Here, we\n",
    "identify this state by extracting the subspace of $(C^2)^{\\otimes 2}$\n",
    "which is invariant under the joint change of basis for both subsystems."
   ]
  },
  {
   "cell_type": "markdown",
   "id": "b484e179",
   "metadata": {},
   "source": [
    "Before trying any of the *RepLAB* commands, we must initialize the library:"
   ]
  },
  {
   "cell_type": "code",
   "execution_count": 1,
   "id": "867425fa",
   "metadata": {
    "execution": {
     "iopub.execute_input": "2021-12-29T10:24:51.672668Z",
     "iopub.status.busy": "2021-12-29T10:24:51.672239Z",
     "iopub.status.idle": "2021-12-29T10:24:57.692633Z",
     "shell.execute_reply": "2021-12-29T10:24:57.691885Z"
    }
   },
   "outputs": [
    {
     "name": "stdout",
     "output_type": "stream",
     "text": [
      "replab_init: Initialization done.\r\n"
     ]
    }
   ],
   "source": [
    "addpath([pwd, '/../../../external/replab']);\n",
    "replab_init('verbose', 0);"
   ]
  },
  {
   "cell_type": "markdown",
   "id": "659fe5ab",
   "metadata": {},
   "source": [
    "## The unitary group representation\n",
    "\n",
    "Changes of bases for one system are described by the group $U(2)$"
   ]
  },
  {
   "cell_type": "code",
   "execution_count": 2,
   "id": "75d12b2b",
   "metadata": {
    "execution": {
     "iopub.execute_input": "2021-12-29T10:24:57.695131Z",
     "iopub.status.busy": "2021-12-29T10:24:57.694701Z",
     "iopub.status.idle": "2021-12-29T10:24:57.716203Z",
     "shell.execute_reply": "2021-12-29T10:24:57.715838Z"
    }
   },
   "outputs": [],
   "source": [
    "d = 2;\n",
    "U2 = replab.U(d);"
   ]
  },
  {
   "cell_type": "markdown",
   "id": "8cb3b79e",
   "metadata": {},
   "source": [
    "We construct the defining representation of this group, which acts on $C^2$:"
   ]
  },
  {
   "cell_type": "code",
   "execution_count": 3,
   "id": "ac043f48",
   "metadata": {
    "execution": {
     "iopub.execute_input": "2021-12-29T10:24:57.718904Z",
     "iopub.status.busy": "2021-12-29T10:24:57.718298Z",
     "iopub.status.idle": "2021-12-29T10:24:57.743751Z",
     "shell.execute_reply": "2021-12-29T10:24:57.744077Z"
    }
   },
   "outputs": [],
   "source": [
    "U2Rep = U2.definingRep;"
   ]
  },
  {
   "cell_type": "markdown",
   "id": "b6b9656e",
   "metadata": {},
   "source": [
    "## Tensor product of two representations\n",
    "\n",
    "We can now construct the representation which acts jointly on two\n",
    "subsystems of dimension 2:"
   ]
  },
  {
   "cell_type": "code",
   "execution_count": 4,
   "id": "df86338e",
   "metadata": {
    "execution": {
     "iopub.execute_input": "2021-12-29T10:24:57.746632Z",
     "iopub.status.busy": "2021-12-29T10:24:57.746213Z",
     "iopub.status.idle": "2021-12-29T10:24:57.763691Z",
     "shell.execute_reply": "2021-12-29T10:24:57.763310Z"
    }
   },
   "outputs": [],
   "source": [
    "U2TensorRep = kron(U2Rep, U2Rep);"
   ]
  },
  {
   "cell_type": "markdown",
   "id": "2488e44c",
   "metadata": {},
   "source": [
    "To identify the subspaces which are invariant under this group, we decompose the representation:"
   ]
  },
  {
   "cell_type": "code",
   "execution_count": 5,
   "id": "0f3b1720",
   "metadata": {
    "execution": {
     "iopub.execute_input": "2021-12-29T10:24:57.766254Z",
     "iopub.status.busy": "2021-12-29T10:24:57.765842Z",
     "iopub.status.idle": "2021-12-29T10:25:01.844206Z",
     "shell.execute_reply": "2021-12-29T10:25:01.844574Z"
    }
   },
   "outputs": [],
   "source": [
    "dec = U2TensorRep.decomposition.nice;"
   ]
  },
  {
   "cell_type": "markdown",
   "id": "16fa0f41",
   "metadata": {},
   "source": [
    "The decomposition has"
   ]
  },
  {
   "cell_type": "code",
   "execution_count": 6,
   "id": "5a1c566a",
   "metadata": {
    "execution": {
     "iopub.execute_input": "2021-12-29T10:25:01.847515Z",
     "iopub.status.busy": "2021-12-29T10:25:01.847063Z",
     "iopub.status.idle": "2021-12-29T10:25:01.861863Z",
     "shell.execute_reply": "2021-12-29T10:25:01.861281Z"
    }
   },
   "outputs": [
    {
     "name": "stdout",
     "output_type": "stream",
     "text": [
      "ans = 2\r\n"
     ]
    }
   ],
   "source": [
    "dec.nComponents"
   ]
  },
  {
   "cell_type": "markdown",
   "id": "2835e98e",
   "metadata": {},
   "source": [
    "components, of dimension"
   ]
  },
  {
   "cell_type": "code",
   "execution_count": 7,
   "id": "46a92a4c",
   "metadata": {
    "execution": {
     "iopub.execute_input": "2021-12-29T10:25:01.864466Z",
     "iopub.status.busy": "2021-12-29T10:25:01.864053Z",
     "iopub.status.idle": "2021-12-29T10:25:01.876938Z",
     "shell.execute_reply": "2021-12-29T10:25:01.877289Z"
    }
   },
   "outputs": [
    {
     "name": "stdout",
     "output_type": "stream",
     "text": [
      "ans = 1\r\n"
     ]
    }
   ],
   "source": [
    "dec.component(1).irrepDimension"
   ]
  },
  {
   "cell_type": "markdown",
   "id": "2607ed9e",
   "metadata": {},
   "source": [
    "and"
   ]
  },
  {
   "cell_type": "code",
   "execution_count": 8,
   "id": "7d0a27a4",
   "metadata": {
    "execution": {
     "iopub.execute_input": "2021-12-29T10:25:01.879784Z",
     "iopub.status.busy": "2021-12-29T10:25:01.879360Z",
     "iopub.status.idle": "2021-12-29T10:25:01.892949Z",
     "shell.execute_reply": "2021-12-29T10:25:01.892586Z"
    }
   },
   "outputs": [
    {
     "name": "stdout",
     "output_type": "stream",
     "text": [
      "ans = 3\r\n"
     ]
    }
   ],
   "source": [
    "dec.component(2).irrepDimension"
   ]
  },
  {
   "cell_type": "markdown",
   "id": "70d830fc",
   "metadata": {},
   "source": [
    "These are the antisymmetric and symmetric subspaces respectively. The change of basis into the first component\n",
    "identifies the antisymetric subspace, also known as the *singlet state*:"
   ]
  },
  {
   "cell_type": "code",
   "execution_count": 9,
   "id": "5557dbe1",
   "metadata": {
    "execution": {
     "iopub.execute_input": "2021-12-29T10:25:01.895675Z",
     "iopub.status.busy": "2021-12-29T10:25:01.895243Z",
     "iopub.status.idle": "2021-12-29T10:25:01.913484Z",
     "shell.execute_reply": "2021-12-29T10:25:01.913812Z"
    }
   },
   "outputs": [
    {
     "name": "stdout",
     "output_type": "stream",
     "text": [
      "singletBasis =\r\n",
      "\r\n",
      "        0\r\n",
      "   0.5000\r\n",
      "  -0.5000\r\n",
      "        0\r\n",
      "\r\n"
     ]
    },
    {
     "name": "stdout",
     "output_type": "stream",
     "text": [
      "rest =\r\n",
      "\r\n",
      "   1.0000        0        0\r\n",
      "        0        0   0.5000\r\n",
      "        0        0   0.5000\r\n",
      "        0   1.0000        0\r\n",
      "\r\n"
     ]
    }
   ],
   "source": [
    "singletBasis = dec.component(1).basis\n",
    "rest = dec.component(2).basis"
   ]
  }
 ],
 "metadata": {
  "jupytext": {
   "cell_metadata_filter": "-all",
   "main_language": "matlab",
   "notebook_metadata_filter": "-all",
   "text_representation": {
    "extension": ".m",
    "format_name": "light"
   }
  },
  "language_info": {
   "file_extension": ".m",
   "help_links": [
    {
     "text": "GNU Octave",
     "url": "https://www.gnu.org/software/octave/support.html"
    },
    {
     "text": "Octave Kernel",
     "url": "https://github.com/Calysto/octave_kernel"
    },
    {
     "text": "MetaKernel Magics",
     "url": "https://metakernel.readthedocs.io/en/latest/source/README.html"
    }
   ],
   "mimetype": "text/x-octave",
   "name": "octave",
   "version": "6.2.0"
  }
 },
 "nbformat": 4,
 "nbformat_minor": 5
}
