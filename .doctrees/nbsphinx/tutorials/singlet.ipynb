{
 "cells": [
  {
   "cell_type": "markdown",
   "id": "d9ebb5aa",
   "metadata": {},
   "source": [
    "# Tutorial for physicists\n",
    "\n",
    "The unitary group $U(n)$ describes the possible change of basis in the\n",
    "complex Hilbert space of dimension $n$. For $n=2$, this captures the\n",
    "possible choices of basis in the qubit space $C^2$. For a system composed\n",
    "of two qubits, we can similarly define the effect of a joint change of\n",
    "basis performed on both subsystems simultaneously. It is known that a\n",
    "single state is invariant under such joint change of basis. Here, we\n",
    "identify this state by extracting the subspace of $(C^2)^{\\otimes 2}$\n",
    "which is invariant under the joint change of basis for both subsystems."
   ]
  },
  {
   "cell_type": "markdown",
   "id": "360a1823",
   "metadata": {},
   "source": [
    "Before trying any of the *RepLAB* commands, we must initialize the library:"
   ]
  },
  {
   "cell_type": "code",
   "execution_count": 1,
   "id": "837aa491",
   "metadata": {
    "execution": {
     "iopub.execute_input": "2021-12-29T22:07:56.003543Z",
     "iopub.status.busy": "2021-12-29T22:07:56.003073Z",
     "iopub.status.idle": "2021-12-29T22:08:02.371753Z",
     "shell.execute_reply": "2021-12-29T22:08:02.370906Z"
    }
   },
   "outputs": [
    {
     "name": "stdout",
     "output_type": "stream",
     "text": [
      "replab_init: Initialization done.\r\n"
     ]
    }
   ],
   "source": [
    "addpath([pwd, '/../../../external/replab']);\n",
    "replab_init('verbose', 0);"
   ]
  },
  {
   "cell_type": "markdown",
   "id": "ebed999f",
   "metadata": {},
   "source": [
    "## The unitary group representation\n",
    "\n",
    "Changes of bases for one system are described by the group $U(2)$"
   ]
  },
  {
   "cell_type": "code",
   "execution_count": 2,
   "id": "42ba955a",
   "metadata": {
    "execution": {
     "iopub.execute_input": "2021-12-29T22:08:02.375304Z",
     "iopub.status.busy": "2021-12-29T22:08:02.374586Z",
     "iopub.status.idle": "2021-12-29T22:08:02.401267Z",
     "shell.execute_reply": "2021-12-29T22:08:02.401686Z"
    }
   },
   "outputs": [],
   "source": [
    "d = 2;\n",
    "U2 = replab.U(d);"
   ]
  },
  {
   "cell_type": "markdown",
   "id": "42340745",
   "metadata": {},
   "source": [
    "We construct the defining representation of this group, which acts on $C^2$:"
   ]
  },
  {
   "cell_type": "code",
   "execution_count": 3,
   "id": "f528884f",
   "metadata": {
    "execution": {
     "iopub.execute_input": "2021-12-29T22:08:02.405161Z",
     "iopub.status.busy": "2021-12-29T22:08:02.404703Z",
     "iopub.status.idle": "2021-12-29T22:08:02.437807Z",
     "shell.execute_reply": "2021-12-29T22:08:02.437331Z"
    }
   },
   "outputs": [],
   "source": [
    "U2Rep = U2.definingRep;"
   ]
  },
  {
   "cell_type": "markdown",
   "id": "884fb130",
   "metadata": {},
   "source": [
    "## Tensor product of two representations\n",
    "\n",
    "We can now construct the representation which acts jointly on two\n",
    "subsystems of dimension 2:"
   ]
  },
  {
   "cell_type": "code",
   "execution_count": 4,
   "id": "062c8e4e",
   "metadata": {
    "execution": {
     "iopub.execute_input": "2021-12-29T22:08:02.441115Z",
     "iopub.status.busy": "2021-12-29T22:08:02.440626Z",
     "iopub.status.idle": "2021-12-29T22:08:02.467171Z",
     "shell.execute_reply": "2021-12-29T22:08:02.466714Z"
    }
   },
   "outputs": [],
   "source": [
    "U2TensorRep = kron(U2Rep, U2Rep);"
   ]
  },
  {
   "cell_type": "markdown",
   "id": "01388a6d",
   "metadata": {},
   "source": [
    "To identify the subspaces which are invariant under this group, we decompose the representation:"
   ]
  },
  {
   "cell_type": "code",
   "execution_count": 5,
   "id": "7395559c",
   "metadata": {
    "execution": {
     "iopub.execute_input": "2021-12-29T22:08:02.470287Z",
     "iopub.status.busy": "2021-12-29T22:08:02.469855Z",
     "iopub.status.idle": "2021-12-29T22:08:06.612497Z",
     "shell.execute_reply": "2021-12-29T22:08:06.611701Z"
    }
   },
   "outputs": [],
   "source": [
    "dec = U2TensorRep.decomposition.nice;"
   ]
  },
  {
   "cell_type": "markdown",
   "id": "b5e27e08",
   "metadata": {},
   "source": [
    "The decomposition has"
   ]
  },
  {
   "cell_type": "code",
   "execution_count": 6,
   "id": "b7cab838",
   "metadata": {
    "execution": {
     "iopub.execute_input": "2021-12-29T22:08:06.615702Z",
     "iopub.status.busy": "2021-12-29T22:08:06.615241Z",
     "iopub.status.idle": "2021-12-29T22:08:06.636142Z",
     "shell.execute_reply": "2021-12-29T22:08:06.635722Z"
    }
   },
   "outputs": [
    {
     "name": "stdout",
     "output_type": "stream",
     "text": [
      "ans = 2\r\n"
     ]
    }
   ],
   "source": [
    "dec.nComponents"
   ]
  },
  {
   "cell_type": "markdown",
   "id": "ea3af2a8",
   "metadata": {},
   "source": [
    "components, of dimension"
   ]
  },
  {
   "cell_type": "code",
   "execution_count": 7,
   "id": "630ec963",
   "metadata": {
    "execution": {
     "iopub.execute_input": "2021-12-29T22:08:06.638983Z",
     "iopub.status.busy": "2021-12-29T22:08:06.638399Z",
     "iopub.status.idle": "2021-12-29T22:08:06.656161Z",
     "shell.execute_reply": "2021-12-29T22:08:06.655723Z"
    }
   },
   "outputs": [
    {
     "name": "stdout",
     "output_type": "stream",
     "text": [
      "ans = 1\r\n"
     ]
    }
   ],
   "source": [
    "dec.component(1).irrepDimension"
   ]
  },
  {
   "cell_type": "markdown",
   "id": "44eb39f1",
   "metadata": {},
   "source": [
    "and"
   ]
  },
  {
   "cell_type": "code",
   "execution_count": 8,
   "id": "cebe8f4f",
   "metadata": {
    "execution": {
     "iopub.execute_input": "2021-12-29T22:08:06.659430Z",
     "iopub.status.busy": "2021-12-29T22:08:06.658939Z",
     "iopub.status.idle": "2021-12-29T22:08:06.675342Z",
     "shell.execute_reply": "2021-12-29T22:08:06.674859Z"
    }
   },
   "outputs": [
    {
     "name": "stdout",
     "output_type": "stream",
     "text": [
      "ans = 3\r\n"
     ]
    }
   ],
   "source": [
    "dec.component(2).irrepDimension"
   ]
  },
  {
   "cell_type": "markdown",
   "id": "88a6534f",
   "metadata": {},
   "source": [
    "These are the antisymmetric and symmetric subspaces respectively. The change of basis into the first component\n",
    "identifies the antisymetric subspace, also known as the *singlet state*:"
   ]
  },
  {
   "cell_type": "code",
   "execution_count": 9,
   "id": "800bf964",
   "metadata": {
    "execution": {
     "iopub.execute_input": "2021-12-29T22:08:06.678572Z",
     "iopub.status.busy": "2021-12-29T22:08:06.678134Z",
     "iopub.status.idle": "2021-12-29T22:08:06.703003Z",
     "shell.execute_reply": "2021-12-29T22:08:06.702566Z"
    }
   },
   "outputs": [
    {
     "name": "stdout",
     "output_type": "stream",
     "text": [
      "singletBasis =\r\n",
      "\r\n",
      "        0\r\n",
      "   0.5000\r\n",
      "  -0.5000\r\n",
      "        0\r\n",
      "\r\n"
     ]
    },
    {
     "name": "stdout",
     "output_type": "stream",
     "text": [
      "rest =\r\n",
      "\r\n",
      "   1.0000        0        0\r\n",
      "        0        0   0.5000\r\n",
      "        0        0   0.5000\r\n",
      "        0   1.0000        0\r\n",
      "\r\n"
     ]
    }
   ],
   "source": [
    "singletBasis = dec.component(1).basis\n",
    "rest = dec.component(2).basis"
   ]
  }
 ],
 "metadata": {
  "jupytext": {
   "cell_metadata_filter": "-all",
   "main_language": "matlab",
   "notebook_metadata_filter": "-all",
   "text_representation": {
    "extension": ".m",
    "format_name": "light"
   }
  },
  "language_info": {
   "file_extension": ".m",
   "help_links": [
    {
     "text": "GNU Octave",
     "url": "https://www.gnu.org/software/octave/support.html"
    },
    {
     "text": "Octave Kernel",
     "url": "https://github.com/Calysto/octave_kernel"
    },
    {
     "text": "MetaKernel Magics",
     "url": "https://metakernel.readthedocs.io/en/latest/source/README.html"
    }
   ],
   "mimetype": "text/x-octave",
   "name": "octave",
   "version": "6.2.0"
  }
 },
 "nbformat": 4,
 "nbformat_minor": 5
}
