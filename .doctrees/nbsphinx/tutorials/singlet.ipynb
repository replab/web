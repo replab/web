{
 "cells": [
  {
   "cell_type": "markdown",
   "id": "ff7e4533",
   "metadata": {},
   "source": [
    "# Tutorial for physicists\n",
    "\n",
    "The unitary group $U(n)$ describes the possible change of basis in the\n",
    "complex Hilbert space of dimension $n$. For $n=2$, this captures the\n",
    "possible choices of basis in the qubit space $C^2$. For a system composed\n",
    "of two qubits, we can similarly define the effect of a joint change of\n",
    "basis performed on both subsystems simultaneously. It is known that a\n",
    "single state is invariant under such joint change of basis. Here, we\n",
    "identify this state by extracting the subspace of $(C^2)^{\\otimes 2}$\n",
    "which is invariant under the joint change of basis for both subsystems."
   ]
  },
  {
   "cell_type": "markdown",
   "id": "470ac1df",
   "metadata": {},
   "source": [
    "Before trying any of the *RepLAB* commands, we must initialize the library:"
   ]
  },
  {
   "cell_type": "code",
   "execution_count": 1,
   "id": "01792354",
   "metadata": {
    "execution": {
     "iopub.execute_input": "2021-12-29T10:56:32.783945Z",
     "iopub.status.busy": "2021-12-29T10:56:32.783336Z",
     "iopub.status.idle": "2021-12-29T10:56:38.076013Z",
     "shell.execute_reply": "2021-12-29T10:56:38.075608Z"
    }
   },
   "outputs": [
    {
     "name": "stdout",
     "output_type": "stream",
     "text": [
      "replab_init: Initialization done.\r\n"
     ]
    }
   ],
   "source": [
    "addpath([pwd, '/../../../external/replab']);\n",
    "replab_init('verbose', 0);"
   ]
  },
  {
   "cell_type": "markdown",
   "id": "85d64757",
   "metadata": {},
   "source": [
    "## The unitary group representation\n",
    "\n",
    "Changes of bases for one system are described by the group $U(2)$"
   ]
  },
  {
   "cell_type": "code",
   "execution_count": 2,
   "id": "350fa6e7",
   "metadata": {
    "execution": {
     "iopub.execute_input": "2021-12-29T10:56:38.078333Z",
     "iopub.status.busy": "2021-12-29T10:56:38.077937Z",
     "iopub.status.idle": "2021-12-29T10:56:38.098577Z",
     "shell.execute_reply": "2021-12-29T10:56:38.098171Z"
    }
   },
   "outputs": [],
   "source": [
    "d = 2;\n",
    "U2 = replab.U(d);"
   ]
  },
  {
   "cell_type": "markdown",
   "id": "4303a0f5",
   "metadata": {},
   "source": [
    "We construct the defining representation of this group, which acts on $C^2$:"
   ]
  },
  {
   "cell_type": "code",
   "execution_count": 3,
   "id": "be27c6e6",
   "metadata": {
    "execution": {
     "iopub.execute_input": "2021-12-29T10:56:38.101444Z",
     "iopub.status.busy": "2021-12-29T10:56:38.101082Z",
     "iopub.status.idle": "2021-12-29T10:56:38.123208Z",
     "shell.execute_reply": "2021-12-29T10:56:38.122732Z"
    }
   },
   "outputs": [],
   "source": [
    "U2Rep = U2.definingRep;"
   ]
  },
  {
   "cell_type": "markdown",
   "id": "c48487c4",
   "metadata": {},
   "source": [
    "## Tensor product of two representations\n",
    "\n",
    "We can now construct the representation which acts jointly on two\n",
    "subsystems of dimension 2:"
   ]
  },
  {
   "cell_type": "code",
   "execution_count": 4,
   "id": "6a0d9f0a",
   "metadata": {
    "execution": {
     "iopub.execute_input": "2021-12-29T10:56:38.125714Z",
     "iopub.status.busy": "2021-12-29T10:56:38.125242Z",
     "iopub.status.idle": "2021-12-29T10:56:38.141451Z",
     "shell.execute_reply": "2021-12-29T10:56:38.141130Z"
    }
   },
   "outputs": [],
   "source": [
    "U2TensorRep = kron(U2Rep, U2Rep);"
   ]
  },
  {
   "cell_type": "markdown",
   "id": "7ae7c0a5",
   "metadata": {},
   "source": [
    "To identify the subspaces which are invariant under this group, we decompose the representation:"
   ]
  },
  {
   "cell_type": "code",
   "execution_count": 5,
   "id": "24cd7df0",
   "metadata": {
    "execution": {
     "iopub.execute_input": "2021-12-29T10:56:38.143832Z",
     "iopub.status.busy": "2021-12-29T10:56:38.143465Z",
     "iopub.status.idle": "2021-12-29T10:56:41.842318Z",
     "shell.execute_reply": "2021-12-29T10:56:41.842650Z"
    }
   },
   "outputs": [],
   "source": [
    "dec = U2TensorRep.decomposition.nice;"
   ]
  },
  {
   "cell_type": "markdown",
   "id": "71978899",
   "metadata": {},
   "source": [
    "The decomposition has"
   ]
  },
  {
   "cell_type": "code",
   "execution_count": 6,
   "id": "3ba9689a",
   "metadata": {
    "execution": {
     "iopub.execute_input": "2021-12-29T10:56:41.845214Z",
     "iopub.status.busy": "2021-12-29T10:56:41.844826Z",
     "iopub.status.idle": "2021-12-29T10:56:41.856859Z",
     "shell.execute_reply": "2021-12-29T10:56:41.856261Z"
    }
   },
   "outputs": [
    {
     "name": "stdout",
     "output_type": "stream",
     "text": [
      "ans = 2\r\n"
     ]
    }
   ],
   "source": [
    "dec.nComponents"
   ]
  },
  {
   "cell_type": "markdown",
   "id": "d769a6ed",
   "metadata": {},
   "source": [
    "components, of dimension"
   ]
  },
  {
   "cell_type": "code",
   "execution_count": 7,
   "id": "c651da8f",
   "metadata": {
    "execution": {
     "iopub.execute_input": "2021-12-29T10:56:41.859408Z",
     "iopub.status.busy": "2021-12-29T10:56:41.858907Z",
     "iopub.status.idle": "2021-12-29T10:56:41.871399Z",
     "shell.execute_reply": "2021-12-29T10:56:41.871883Z"
    }
   },
   "outputs": [
    {
     "name": "stdout",
     "output_type": "stream",
     "text": [
      "ans = 1\r\n"
     ]
    }
   ],
   "source": [
    "dec.component(1).irrepDimension"
   ]
  },
  {
   "cell_type": "markdown",
   "id": "6f205ce5",
   "metadata": {},
   "source": [
    "and"
   ]
  },
  {
   "cell_type": "code",
   "execution_count": 8,
   "id": "8486afeb",
   "metadata": {
    "execution": {
     "iopub.execute_input": "2021-12-29T10:56:41.874541Z",
     "iopub.status.busy": "2021-12-29T10:56:41.873943Z",
     "iopub.status.idle": "2021-12-29T10:56:41.885613Z",
     "shell.execute_reply": "2021-12-29T10:56:41.885277Z"
    }
   },
   "outputs": [
    {
     "name": "stdout",
     "output_type": "stream",
     "text": [
      "ans = 3\r\n"
     ]
    }
   ],
   "source": [
    "dec.component(2).irrepDimension"
   ]
  },
  {
   "cell_type": "markdown",
   "id": "cd53f208",
   "metadata": {},
   "source": [
    "These are the antisymmetric and symmetric subspaces respectively. The change of basis into the first component\n",
    "identifies the antisymetric subspace, also known as the *singlet state*:"
   ]
  },
  {
   "cell_type": "code",
   "execution_count": 9,
   "id": "9bc9dfa6",
   "metadata": {
    "execution": {
     "iopub.execute_input": "2021-12-29T10:56:41.887929Z",
     "iopub.status.busy": "2021-12-29T10:56:41.887518Z",
     "iopub.status.idle": "2021-12-29T10:56:41.904108Z",
     "shell.execute_reply": "2021-12-29T10:56:41.903796Z"
    }
   },
   "outputs": [
    {
     "name": "stdout",
     "output_type": "stream",
     "text": [
      "singletBasis =\r\n",
      "\r\n",
      "        0\r\n",
      "   0.5000\r\n",
      "  -0.5000\r\n",
      "        0\r\n",
      "\r\n"
     ]
    },
    {
     "name": "stdout",
     "output_type": "stream",
     "text": [
      "rest =\r\n",
      "\r\n",
      "   1.0000        0        0\r\n",
      "        0        0   0.5000\r\n",
      "        0        0   0.5000\r\n",
      "        0   1.0000        0\r\n",
      "\r\n"
     ]
    }
   ],
   "source": [
    "singletBasis = dec.component(1).basis\n",
    "rest = dec.component(2).basis"
   ]
  }
 ],
 "metadata": {
  "jupytext": {
   "cell_metadata_filter": "-all",
   "main_language": "matlab",
   "notebook_metadata_filter": "-all",
   "text_representation": {
    "extension": ".m",
    "format_name": "light"
   }
  },
  "language_info": {
   "file_extension": ".m",
   "help_links": [
    {
     "text": "GNU Octave",
     "url": "https://www.gnu.org/software/octave/support.html"
    },
    {
     "text": "Octave Kernel",
     "url": "https://github.com/Calysto/octave_kernel"
    },
    {
     "text": "MetaKernel Magics",
     "url": "https://metakernel.readthedocs.io/en/latest/source/README.html"
    }
   ],
   "mimetype": "text/x-octave",
   "name": "octave",
   "version": "6.2.0"
  }
 },
 "nbformat": 4,
 "nbformat_minor": 5
}
