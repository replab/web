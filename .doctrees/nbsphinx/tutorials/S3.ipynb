{
 "cells": [
  {
   "cell_type": "markdown",
   "id": "faa5ed6e",
   "metadata": {},
   "source": [
    "# Tutorial for mathematicians\n",
    "\n",
    "The symmetric group $S_n$ is group of primary importance. Here, we consider this group for $n=3$ and discuss several of its representations with *RepLAB*.\n",
    "\n",
    "Before trying any of the *RepLAB* commands, we must initialize the library:"
   ]
  },
  {
   "cell_type": "code",
   "execution_count": 1,
   "id": "60e42ea6",
   "metadata": {
    "execution": {
     "iopub.execute_input": "2021-12-29T10:24:38.513914Z",
     "iopub.status.busy": "2021-12-29T10:24:38.513352Z",
     "iopub.status.idle": "2021-12-29T10:24:44.442853Z",
     "shell.execute_reply": "2021-12-29T10:24:44.442068Z"
    }
   },
   "outputs": [
    {
     "name": "stdout",
     "output_type": "stream",
     "text": [
      "replab_init: Initialization done.\r\n"
     ]
    }
   ],
   "source": [
    "addpath([pwd, '/../../../external/replab']);\n",
    "replab_init('verbose', 0);"
   ]
  },
  {
   "cell_type": "markdown",
   "id": "4af5fd92",
   "metadata": {},
   "source": [
    "## The symmetric group\n",
    "\n",
    "Consider $n$ distinct elements, numbered $1,2,\\ldots,n$. The symmetric group describes all possible ways in which these elements can be permuted.\n",
    "\n",
    "With $n=3$, for instance, two possible arrangements are"
   ]
  },
  {
   "cell_type": "code",
   "execution_count": 2,
   "id": "a6eae0e2",
   "metadata": {
    "execution": {
     "iopub.execute_input": "2021-12-29T10:24:44.445333Z",
     "iopub.status.busy": "2021-12-29T10:24:44.444918Z",
     "iopub.status.idle": "2021-12-29T10:24:44.458052Z",
     "shell.execute_reply": "2021-12-29T10:24:44.457687Z"
    }
   },
   "outputs": [],
   "source": [
    "[1 2 3];"
   ]
  },
  {
   "cell_type": "markdown",
   "id": "f9e604b5",
   "metadata": {},
   "source": [
    "and"
   ]
  },
  {
   "cell_type": "code",
   "execution_count": 3,
   "id": "61ac34b5",
   "metadata": {
    "execution": {
     "iopub.execute_input": "2021-12-29T10:24:44.460660Z",
     "iopub.status.busy": "2021-12-29T10:24:44.460255Z",
     "iopub.status.idle": "2021-12-29T10:24:44.471037Z",
     "shell.execute_reply": "2021-12-29T10:24:44.471429Z"
    }
   },
   "outputs": [],
   "source": [
    "[1 3 2];"
   ]
  },
  {
   "cell_type": "markdown",
   "id": "82081fd7",
   "metadata": {},
   "source": [
    "In general there are $n!$ such arrangements (i.e. $6$ arrangements for $n=3$).\n",
    "\n",
    "In *RepLAB*, the symmetric group can be constructed with a simple command"
   ]
  },
  {
   "cell_type": "code",
   "execution_count": 4,
   "id": "29695743",
   "metadata": {
    "execution": {
     "iopub.execute_input": "2021-12-29T10:24:44.474041Z",
     "iopub.status.busy": "2021-12-29T10:24:44.473630Z",
     "iopub.status.idle": "2021-12-29T10:24:44.519169Z",
     "shell.execute_reply": "2021-12-29T10:24:44.518698Z"
    }
   },
   "outputs": [],
   "source": [
    "n = 3;\n",
    "S3 = replab.S(n);"
   ]
  },
  {
   "cell_type": "markdown",
   "id": "fef57e81",
   "metadata": {},
   "source": [
    "The elements of the group can be easily listed"
   ]
  },
  {
   "cell_type": "code",
   "execution_count": 5,
   "id": "927d8676",
   "metadata": {
    "execution": {
     "iopub.execute_input": "2021-12-29T10:24:44.521797Z",
     "iopub.status.busy": "2021-12-29T10:24:44.521382Z",
     "iopub.status.idle": "2021-12-29T10:24:44.563480Z",
     "shell.execute_reply": "2021-12-29T10:24:44.562817Z"
    }
   },
   "outputs": [
    {
     "name": "stdout",
     "output_type": "stream",
     "text": [
      "ans =\r\n",
      "{\r\n",
      "  [1,1] =\r\n",
      "\r\n",
      "     1   2   3\r\n",
      "\r\n",
      "  [1,2] =\r\n",
      "\r\n",
      "     1   3   2\r\n",
      "\r\n",
      "  [1,3] =\r\n",
      "\r\n",
      "     2   1   3\r\n",
      "\r\n",
      "  [1,4] =\r\n",
      "\r\n",
      "     2   3   1\r\n",
      "\r\n",
      "  [1,5] =\r\n",
      "\r\n",
      "     3   1   2\r\n",
      "\r\n",
      "  [1,6] =\r\n",
      "\r\n",
      "     3   2   1\r\n",
      "\r\n",
      "}\r\n",
      "\r\n"
     ]
    }
   ],
   "source": [
    "S3.elements"
   ]
  },
  {
   "cell_type": "markdown",
   "id": "ab56d202",
   "metadata": {},
   "source": [
    "The number of elements is the order of the group"
   ]
  },
  {
   "cell_type": "code",
   "execution_count": 6,
   "id": "8b4a9f2a",
   "metadata": {
    "execution": {
     "iopub.execute_input": "2021-12-29T10:24:44.566251Z",
     "iopub.status.busy": "2021-12-29T10:24:44.565832Z",
     "iopub.status.idle": "2021-12-29T10:24:44.578692Z",
     "shell.execute_reply": "2021-12-29T10:24:44.579043Z"
    }
   },
   "outputs": [
    {
     "name": "stdout",
     "output_type": "stream",
     "text": [
      "ans =\r\n",
      "    6\r\n"
     ]
    }
   ],
   "source": [
    "S3.order"
   ]
  },
  {
   "cell_type": "markdown",
   "id": "09c9295c",
   "metadata": {},
   "source": [
    "As we see, permutations are represented by row-vectors with an arrangement of the elements $1,\\ldots,n$.\n",
    "\n",
    "The group structure defines how elements of the group compose with each other.\n",
    "For instance, permuting the first two elements in $1,2,3$, followed by a permutation of the second and third elements results in a cyclic permutation:"
   ]
  },
  {
   "cell_type": "code",
   "execution_count": 7,
   "id": "3efbb84b",
   "metadata": {
    "execution": {
     "iopub.execute_input": "2021-12-29T10:24:44.581663Z",
     "iopub.status.busy": "2021-12-29T10:24:44.581244Z",
     "iopub.status.idle": "2021-12-29T10:24:44.602825Z",
     "shell.execute_reply": "2021-12-29T10:24:44.602432Z"
    }
   },
   "outputs": [
    {
     "name": "stdout",
     "output_type": "stream",
     "text": [
      "ans =\r\n",
      "\r\n",
      "   2   3   1\r\n",
      "\r\n"
     ]
    }
   ],
   "source": [
    "element1 = [2 1 3];\n",
    "element2 = [1 3 2];\n",
    "S3.compose(element1, element2)"
   ]
  },
  {
   "cell_type": "markdown",
   "id": "0639f756",
   "metadata": {},
   "source": [
    "## The natural representation of S(3)\n",
    "\n",
    "A group can always be represented by matrices of finite dimension. In a $d$-dimensional matrix representation, each group element is associated with a $d \\times d$ matrix called the image of the group\n",
    "element. The action of matrix multiplication on the images then reflects the group composition rule.\n",
    "\n",
    "Several matrix representations are possible for the same group, possibly in various dimension $d$. Here, we are going to explore some representations of the group $S_3$\n",
    "\n",
    "When seeing the group as a permutation within $n$ elements, a natural choice of representation arises in dimension $d=n$, where the permutation\n",
    "is applied to the coordinates of the vector space $R^n$. This is called the *natural representation* of a group. It can be constructed easily:"
   ]
  },
  {
   "cell_type": "code",
   "execution_count": 8,
   "id": "646729db",
   "metadata": {
    "execution": {
     "iopub.execute_input": "2021-12-29T10:24:44.605762Z",
     "iopub.status.busy": "2021-12-29T10:24:44.605352Z",
     "iopub.status.idle": "2021-12-29T10:24:44.741398Z",
     "shell.execute_reply": "2021-12-29T10:24:44.740951Z"
    }
   },
   "outputs": [],
   "source": [
    "natRep = S3.naturalRep;"
   ]
  },
  {
   "cell_type": "markdown",
   "id": "cbab8b2e",
   "metadata": {},
   "source": [
    "The image of a group element in this representation can be extracted"
   ]
  },
  {
   "cell_type": "code",
   "execution_count": 9,
   "id": "56ce80f1",
   "metadata": {
    "execution": {
     "iopub.execute_input": "2021-12-29T10:24:44.744257Z",
     "iopub.status.busy": "2021-12-29T10:24:44.743824Z",
     "iopub.status.idle": "2021-12-29T10:24:44.758481Z",
     "shell.execute_reply": "2021-12-29T10:24:44.758105Z"
    }
   },
   "outputs": [
    {
     "name": "stdout",
     "output_type": "stream",
     "text": [
      "ans =\r\n",
      "\r\n",
      "   0   1   0\r\n",
      "   1   0   0\r\n",
      "   0   0   1\r\n",
      "\r\n"
     ]
    }
   ],
   "source": [
    "natRep.image([2 1 3])"
   ]
  },
  {
   "cell_type": "markdown",
   "id": "eb9b8c04",
   "metadata": {},
   "source": [
    "We see that the matrices representing the group elements are $n \\times n$ permutation matrices, which simply apply the permutation to the coordinates of the vector space $R^n$.\n",
    "\n",
    "For a representation to be valid, the images must follow the structure of the group:"
   ]
  },
  {
   "cell_type": "code",
   "execution_count": 10,
   "id": "60dd0f91",
   "metadata": {
    "execution": {
     "iopub.execute_input": "2021-12-29T10:24:44.760916Z",
     "iopub.status.busy": "2021-12-29T10:24:44.760331Z",
     "iopub.status.idle": "2021-12-29T10:24:44.792399Z",
     "shell.execute_reply": "2021-12-29T10:24:44.791997Z"
    }
   },
   "outputs": [
    {
     "name": "stdout",
     "output_type": "stream",
     "text": [
      "ans =\r\n",
      "\r\n",
      "   0   0   1\r\n",
      "   1   0   0\r\n",
      "   0   1   0\r\n",
      "\r\n"
     ]
    },
    {
     "name": "stdout",
     "output_type": "stream",
     "text": [
      "ans =\r\n",
      "\r\n",
      "   0   0   1\r\n",
      "   1   0   0\r\n",
      "   0   1   0\r\n",
      "\r\n"
     ]
    }
   ],
   "source": [
    "image1 = natRep.image(element1);\n",
    "image2 = natRep.image(element2);\n",
    "image1*image2\n",
    "natRep.image(S3.compose(element1, element2))"
   ]
  },
  {
   "cell_type": "markdown",
   "id": "9175b80a",
   "metadata": {},
   "source": [
    "We see that the image of the product of elements is indeed the product of the images of the respective elements, i.e. the algebra of matrices\n",
    "acting on the representation images accurately reflects the group algebra.\n",
    "\n",
    "It can be checked, moreover, that the natural representation is faithful, i.e. each group element has its own distinct image. This needs\n",
    "not always be the case as in the following two examples.\n",
    "\n",
    "## The parity representation of $S_3$\n",
    "\n",
    "To construct an arbitrary group representation in *RepLAB*, it is sufficient to provide the image of the generators of the group. The group $S_3$ has two generators:"
   ]
  },
  {
   "cell_type": "code",
   "execution_count": 11,
   "id": "d5c09f40",
   "metadata": {
    "execution": {
     "iopub.execute_input": "2021-12-29T10:24:44.795116Z",
     "iopub.status.busy": "2021-12-29T10:24:44.794699Z",
     "iopub.status.idle": "2021-12-29T10:24:44.811260Z",
     "shell.execute_reply": "2021-12-29T10:24:44.810860Z"
    }
   },
   "outputs": [
    {
     "name": "stdout",
     "output_type": "stream",
     "text": [
      "ans =\r\n",
      "\r\n",
      "   2   3   1\r\n",
      "\r\n",
      "ans =\r\n",
      "\r\n",
      "   2   1   3\r\n",
      "\r\n"
     ]
    }
   ],
   "source": [
    "generators = S3.generators;\n",
    "generators{:}"
   ]
  },
  {
   "cell_type": "markdown",
   "id": "90ae5751",
   "metadata": {},
   "source": [
    "Let us construct a representation of this group in dimension"
   ]
  },
  {
   "cell_type": "code",
   "execution_count": 12,
   "id": "9592b4c2",
   "metadata": {
    "execution": {
     "iopub.execute_input": "2021-12-29T10:24:44.813892Z",
     "iopub.status.busy": "2021-12-29T10:24:44.813481Z",
     "iopub.status.idle": "2021-12-29T10:24:44.824483Z",
     "shell.execute_reply": "2021-12-29T10:24:44.824811Z"
    }
   },
   "outputs": [],
   "source": [
    "d = 1;"
   ]
  },
  {
   "cell_type": "markdown",
   "id": "08785116",
   "metadata": {},
   "source": [
    "associating the each generator its parity (i.e. either $+1$ or $-1$). Since the parity of [2 3 1] is 1 and the parity of [2 1 3] is -1, this is achieved by instantiating calling the *repByImages* methods on the group:"
   ]
  },
  {
   "cell_type": "code",
   "execution_count": 13,
   "id": "d2789b6d",
   "metadata": {
    "execution": {
     "iopub.execute_input": "2021-12-29T10:24:44.827499Z",
     "iopub.status.busy": "2021-12-29T10:24:44.827054Z",
     "iopub.status.idle": "2021-12-29T10:24:44.973498Z",
     "shell.execute_reply": "2021-12-29T10:24:44.972812Z"
    }
   },
   "outputs": [],
   "source": [
    "parRep = S3.repByImages('R', d, 'preimages', S3.generators, 'images', {1 -1});"
   ]
  },
  {
   "cell_type": "markdown",
   "id": "04f191a8",
   "metadata": {},
   "source": [
    "We can check that this representation is valid"
   ]
  },
  {
   "cell_type": "code",
   "execution_count": 14,
   "id": "2e8ce09e",
   "metadata": {
    "execution": {
     "iopub.execute_input": "2021-12-29T10:24:44.976239Z",
     "iopub.status.busy": "2021-12-29T10:24:44.975818Z",
     "iopub.status.idle": "2021-12-29T10:24:45.010003Z",
     "shell.execute_reply": "2021-12-29T10:24:45.009312Z"
    }
   },
   "outputs": [
    {
     "name": "stdout",
     "output_type": "stream",
     "text": [
      "image1 = -1\r\n"
     ]
    },
    {
     "name": "stdout",
     "output_type": "stream",
     "text": [
      "image2 = -1\r\n"
     ]
    },
    {
     "name": "stdout",
     "output_type": "stream",
     "text": [
      "ans = 1\r\n"
     ]
    },
    {
     "name": "stdout",
     "output_type": "stream",
     "text": [
      "ans = 1\r\n"
     ]
    }
   ],
   "source": [
    "image1 = parRep.image(element1)\n",
    "image2 = parRep.image(element2)\n",
    "image1*image2\n",
    "parRep.image(S3.compose(element1, element2))"
   ]
  },
  {
   "cell_type": "markdown",
   "id": "3908c5cc",
   "metadata": {},
   "source": [
    "The parity of each binary permutation ``[2 1 3]`` and ``[1 3 2]`` is $-1$, and their product, the cycle [2 3 1], has parity $1$.\n",
    "\n",
    "Clearly, this representation carries some information about the group, namely the parity, but some elements have the same image:"
   ]
  },
  {
   "cell_type": "code",
   "execution_count": 15,
   "id": "1d29f715",
   "metadata": {
    "execution": {
     "iopub.execute_input": "2021-12-29T10:24:45.012781Z",
     "iopub.status.busy": "2021-12-29T10:24:45.012367Z",
     "iopub.status.idle": "2021-12-29T10:24:45.062396Z",
     "shell.execute_reply": "2021-12-29T10:24:45.061976Z"
    }
   },
   "outputs": [
    {
     "name": "stdout",
     "output_type": "stream",
     "text": [
      "Image of [1  2  3] : 1\r\n",
      "Image of [1  3  2] : -1\r\n",
      "Image of [2  1  3] : -1\r\n",
      "Image of [2  3  1] : 1\r\n",
      "Image of [3  1  2] : 1\r\n",
      "Image of [3  2  1] : -1\r\n"
     ]
    }
   ],
   "source": [
    "allElements = S3.elements;\n",
    "for i = 1:length(allElements)\n",
    "disp(['Image of [', num2str(allElements{i}), '] : ', num2str(parRep.image(allElements{i}))]);\n",
    "end"
   ]
  },
  {
   "cell_type": "markdown",
   "id": "db64eee9",
   "metadata": {},
   "source": [
    "Therefore, this representation is not *faithful*.\n",
    "\n",
    "## The trivial representation of S(3)\n",
    "An even simpler representation of the group S(n) is one in which the image of all elements is set to $1$. This is called the *trivial representation*.\n",
    "\n",
    "It can be constructed similarly from the image of the generators:"
   ]
  },
  {
   "cell_type": "code",
   "execution_count": 16,
   "id": "4abb7c46",
   "metadata": {
    "execution": {
     "iopub.execute_input": "2021-12-29T10:24:45.065430Z",
     "iopub.status.busy": "2021-12-29T10:24:45.065015Z",
     "iopub.status.idle": "2021-12-29T10:24:45.198389Z",
     "shell.execute_reply": "2021-12-29T10:24:45.197973Z"
    }
   },
   "outputs": [],
   "source": [
    "trivRep = S3.repByImages('R', d, 'preimages', S3.generators, 'images', {1 1});"
   ]
  },
  {
   "cell_type": "markdown",
   "id": "9574d342",
   "metadata": {},
   "source": [
    "This time, the group law is trivially satisfied since all images are indeed equal to $1$:"
   ]
  },
  {
   "cell_type": "code",
   "execution_count": 17,
   "id": "8b30bc78",
   "metadata": {
    "execution": {
     "iopub.execute_input": "2021-12-29T10:24:45.201477Z",
     "iopub.status.busy": "2021-12-29T10:24:45.200752Z",
     "iopub.status.idle": "2021-12-29T10:24:45.242261Z",
     "shell.execute_reply": "2021-12-29T10:24:45.241786Z"
    }
   },
   "outputs": [
    {
     "name": "stdout",
     "output_type": "stream",
     "text": [
      "Image of [1  2  3] : 1\r\n",
      "Image of [1  3  2] : 1\r\n",
      "Image of [2  1  3] : 1\r\n",
      "Image of [2  3  1] : 1\r\n",
      "Image of [3  1  2] : 1\r\n",
      "Image of [3  2  1] : 1\r\n"
     ]
    }
   ],
   "source": [
    "for i = 1:length(allElements)\n",
    "disp(['Image of [', num2str(allElements{i}), '] : ', num2str(trivRep.image(allElements{i}))]);\n",
    "end"
   ]
  },
  {
   "cell_type": "markdown",
   "id": "516ea212",
   "metadata": {},
   "source": [
    "## Direct sum of representation of S(3)\n",
    "\n",
    "We have seen that a group can admit several representations. Any two representations of a group in dimension $d_1$ and $d_2$ can be joined\n",
    "together by taking their *direct sum* in order to create a new valid representation in dimension $d_1 + d_2$.\n",
    "\n",
    "For instance, we can construct a $4$-dimensional representation of S(3) by taking the direct sum of the natural representation with the parity\n",
    "representation"
   ]
  },
  {
   "cell_type": "code",
   "execution_count": 18,
   "id": "d37de388",
   "metadata": {
    "execution": {
     "iopub.execute_input": "2021-12-29T10:24:45.245175Z",
     "iopub.status.busy": "2021-12-29T10:24:45.244761Z",
     "iopub.status.idle": "2021-12-29T10:24:45.290163Z",
     "shell.execute_reply": "2021-12-29T10:24:45.289750Z"
    }
   },
   "outputs": [
    {
     "name": "stdout",
     "output_type": "stream",
     "text": [
      "newRep =\r\n",
      "\r\n",
      "Orthogonal direct sum representation\r\n",
      "dimension: 4\r\n",
      "    field: 'R'\r\n",
      "    group: Symmetric group acting on 3 elements\r\n",
      "isUnitary: true\r\n",
      "factor(1): Orthogonal reducible representation\r\n",
      "factor(2): Orthogonal representation\r\n",
      "\r\n"
     ]
    }
   ],
   "source": [
    "newRep = blkdiag(natRep, parRep)"
   ]
  },
  {
   "cell_type": "markdown",
   "id": "ea200a34",
   "metadata": {},
   "source": [
    "The images are then $4 \\times 4$ matrices"
   ]
  },
  {
   "cell_type": "code",
   "execution_count": 19,
   "id": "a416f616",
   "metadata": {
    "execution": {
     "iopub.execute_input": "2021-12-29T10:24:45.293018Z",
     "iopub.status.busy": "2021-12-29T10:24:45.292597Z",
     "iopub.status.idle": "2021-12-29T10:24:45.319302Z",
     "shell.execute_reply": "2021-12-29T10:24:45.319664Z"
    }
   },
   "outputs": [
    {
     "name": "stdout",
     "output_type": "stream",
     "text": [
      "ans =\r\n",
      "\r\n",
      "   0   1   0   0\r\n",
      "   1   0   0   0\r\n",
      "   0   0   1   0\r\n",
      "   0   0   0  -1\r\n",
      "\r\n"
     ]
    },
    {
     "name": "stdout",
     "output_type": "stream",
     "text": [
      "ans =\r\n",
      "\r\n",
      "   1   0   0   0\r\n",
      "   0   0   1   0\r\n",
      "   0   1   0   0\r\n",
      "   0   0   0  -1\r\n",
      "\r\n"
     ]
    }
   ],
   "source": [
    "newRep.image(element1)\n",
    "newRep.image(element2)"
   ]
  },
  {
   "cell_type": "markdown",
   "id": "a6a8c298",
   "metadata": {},
   "source": [
    "As expected, the images have a block diagonal structure. The properties\n",
    "of a direct sum representation are thus captured by the properties of\n",
    "the representation in each block. Such a representation is *reducible*.\n",
    "\n",
    "## Irreducible representations of S(3)\n",
    "\n",
    "Given a representation, it is not always obvious whether it is the direct\n",
    "sum of more fundamental representations or if the representation is\n",
    "*irreducible*. For instance, the images of the natural representation\n",
    "introduced above are not obviously block-diagonal. Yet, this\n",
    "representation is also reducible. To see this, one needs to find a basis\n",
    "of the vector space $R^d$ in which the images have a block diagonal\n",
    "structure.\n",
    "\n",
    "This can be achieved in *RepLAB* by decomposing the representation"
   ]
  },
  {
   "cell_type": "code",
   "execution_count": 20,
   "id": "7cd18f14",
   "metadata": {
    "execution": {
     "iopub.execute_input": "2021-12-29T10:24:45.322104Z",
     "iopub.status.busy": "2021-12-29T10:24:45.321593Z",
     "iopub.status.idle": "2021-12-29T10:24:47.858907Z",
     "shell.execute_reply": "2021-12-29T10:24:47.858512Z"
    }
   },
   "outputs": [
    {
     "name": "stdout",
     "output_type": "stream",
     "text": [
      "warning: -largeArrayDims and -compatibleArrayDims are accepted for compatibility, but ignored"
     ]
    },
    {
     "name": "stdout",
     "output_type": "stream",
     "text": [
      "\r\n"
     ]
    },
    {
     "name": "stdout",
     "output_type": "stream",
     "text": [
      "ans = 2\r\n"
     ]
    }
   ],
   "source": [
    "natDec = natRep.decomposition.nice;\n",
    "natDec.nComponents"
   ]
  },
  {
   "cell_type": "markdown",
   "id": "aa7cd0ee",
   "metadata": {},
   "source": [
    "This shows that the defininig representation of $S_3$ has two *irreducible components*, of dimension $1$ and $2$ respectively:"
   ]
  },
  {
   "cell_type": "code",
   "execution_count": 21,
   "id": "3129e9b8",
   "metadata": {
    "execution": {
     "iopub.execute_input": "2021-12-29T10:24:47.861585Z",
     "iopub.status.busy": "2021-12-29T10:24:47.860917Z",
     "iopub.status.idle": "2021-12-29T10:24:47.879420Z",
     "shell.execute_reply": "2021-12-29T10:24:47.878977Z"
    }
   },
   "outputs": [
    {
     "name": "stdout",
     "output_type": "stream",
     "text": [
      "ans = 1\r\n"
     ]
    },
    {
     "name": "stdout",
     "output_type": "stream",
     "text": [
      "ans = 2\r\n"
     ]
    }
   ],
   "source": [
    "natDec.component(1).irrepDimension\n",
    "natDec.component(2).irrepDimension"
   ]
  },
  {
   "cell_type": "markdown",
   "id": "32c1f3b9",
   "metadata": {},
   "source": [
    "The decomposition also provides the change of basis matrix which makes |this decomposition apparent"
   ]
  },
  {
   "cell_type": "code",
   "execution_count": 22,
   "id": "3a69807a",
   "metadata": {
    "execution": {
     "iopub.execute_input": "2021-12-29T10:24:47.882358Z",
     "iopub.status.busy": "2021-12-29T10:24:47.881941Z",
     "iopub.status.idle": "2021-12-29T10:24:47.896072Z",
     "shell.execute_reply": "2021-12-29T10:24:47.895691Z"
    }
   },
   "outputs": [
    {
     "name": "stdout",
     "output_type": "stream",
     "text": [
      "basis =\r\n",
      "\r\n",
      "   0.3333   0.6667  -0.3333\r\n",
      "   0.3333  -0.3333   0.6667\r\n",
      "   0.3333  -0.3333  -0.3333\r\n",
      "\r\n"
     ]
    }
   ],
   "source": [
    "basis = natDec.basis"
   ]
  },
  {
   "cell_type": "markdown",
   "id": "4daf9a62",
   "metadata": {},
   "source": [
    "The images of the two elements of $S_3$, ``[2 1 3]`` and ``[1 3 2]`` are indeed block-diagonal in this basis:"
   ]
  },
  {
   "cell_type": "code",
   "execution_count": 23,
   "id": "c8dc9782",
   "metadata": {
    "execution": {
     "iopub.execute_input": "2021-12-29T10:24:47.898620Z",
     "iopub.status.busy": "2021-12-29T10:24:47.898193Z",
     "iopub.status.idle": "2021-12-29T10:24:47.920355Z",
     "shell.execute_reply": "2021-12-29T10:24:47.919973Z"
    }
   },
   "outputs": [
    {
     "name": "stdout",
     "output_type": "stream",
     "text": [
      "ans =\r\n",
      "\r\n",
      "   1   0   0\r\n",
      "   0   0   1\r\n",
      "   0   1   0\r\n",
      "\r\n"
     ]
    },
    {
     "name": "stdout",
     "output_type": "stream",
     "text": [
      "ans =\r\n",
      "\r\n",
      "   1   0   0\r\n",
      "   0   1  -1\r\n",
      "   0   0  -1\r\n",
      "\r\n"
     ]
    }
   ],
   "source": [
    "inv(basis)*natRep.image(element1)*basis\n",
    "inv(basis)*natRep.image(element2)*basis"
   ]
  },
  {
   "cell_type": "markdown",
   "id": "1147f85e",
   "metadata": {},
   "source": [
    "## Summary\n",
    "\n",
    "This shows that the natural representation of S(3) contains\n",
    "\n",
    "* One copy of the trivial representation of S(3)\n",
    "* One copy of the a faithful 2 x 2 representation of S(3)"
   ]
  }
 ],
 "metadata": {
  "jupytext": {
   "cell_metadata_filter": "-all",
   "main_language": "matlab",
   "notebook_metadata_filter": "-all",
   "text_representation": {
    "extension": ".m",
    "format_name": "light"
   }
  },
  "language_info": {
   "file_extension": ".m",
   "help_links": [
    {
     "text": "GNU Octave",
     "url": "https://www.gnu.org/software/octave/support.html"
    },
    {
     "text": "Octave Kernel",
     "url": "https://github.com/Calysto/octave_kernel"
    },
    {
     "text": "MetaKernel Magics",
     "url": "https://metakernel.readthedocs.io/en/latest/source/README.html"
    }
   ],
   "mimetype": "text/x-octave",
   "name": "octave",
   "version": "6.2.0"
  }
 },
 "nbformat": 4,
 "nbformat_minor": 5
}
